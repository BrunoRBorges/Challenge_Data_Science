{
  "nbformat": 4,
  "nbformat_minor": 0,
  "metadata": {
    "colab": {
      "provenance": [],
      "toc_visible": true,
      "authorship_tag": "ABX9TyOBY9pqKJnaLQ8Vg58usMZz",
      "include_colab_link": true
    },
    "kernelspec": {
      "name": "python3",
      "display_name": "Python 3"
    },
    "language_info": {
      "name": "python"
    }
  },
  "cells": [
    {
      "cell_type": "markdown",
      "metadata": {
        "id": "view-in-github",
        "colab_type": "text"
      },
      "source": [
        "<a href=\"https://colab.research.google.com/github/BrunoRBorges/Challenge_Data_Science/blob/main/Challenge_data_science_s03.ipynb\" target=\"_parent\"><img src=\"https://colab.research.google.com/assets/colab-badge.svg\" alt=\"Open In Colab\"/></a>"
      ]
    },
    {
      "cell_type": "markdown",
      "source": [
        "# Challenge Data Science Alura - Semana 03\n",
        "Bem-vindo ao meu GitHub! Meu nome é Bruno, e gostaria de lhe apresentar um pouco do trabalho que desenvolvi durante este Challenge!\n",
        "\n",
        "A partir de agora, irei utilizar os dados com colunas dummy gerados na semana 02 para criar um recomendador de imóveis, baseado numa ID passada pelo usuário."
      ],
      "metadata": {
        "id": "DOCABX-St3Uh"
      }
    },
    {
      "cell_type": "code",
      "execution_count": 1,
      "metadata": {
        "id": "Cx2tM8TsWLdQ",
        "colab": {
          "base_uri": "https://localhost:8080/"
        },
        "outputId": "cdfc2354-7fb9-4c8b-bf37-54c35436cedf"
      },
      "outputs": [
        {
          "output_type": "stream",
          "name": "stdout",
          "text": [
            "Looking in indexes: https://pypi.org/simple, https://us-python.pkg.dev/colab-wheels/public/simple/\n",
            "Collecting pyspark\n",
            "  Downloading pyspark-3.3.1.tar.gz (281.4 MB)\n",
            "\u001b[K     |████████████████████████████████| 281.4 MB 38 kB/s \n",
            "\u001b[?25hCollecting py4j==0.10.9.5\n",
            "  Downloading py4j-0.10.9.5-py2.py3-none-any.whl (199 kB)\n",
            "\u001b[K     |████████████████████████████████| 199 kB 65.5 MB/s \n",
            "\u001b[?25hBuilding wheels for collected packages: pyspark\n",
            "  Building wheel for pyspark (setup.py) ... \u001b[?25l\u001b[?25hdone\n",
            "  Created wheel for pyspark: filename=pyspark-3.3.1-py2.py3-none-any.whl size=281845512 sha256=8fda746099b394a7385638bc061340423fb21a3a706cef0ac836dd0115fee131\n",
            "  Stored in directory: /root/.cache/pip/wheels/43/dc/11/ec201cd671da62fa9c5cc77078235e40722170ceba231d7598\n",
            "Successfully built pyspark\n",
            "Installing collected packages: py4j, pyspark\n",
            "Successfully installed py4j-0.10.9.5 pyspark-3.3.1\n",
            "Mounted at /content/drive\n"
          ]
        }
      ],
      "source": [
        "!pip install pyspark\n",
        "from google.colab import drive\n",
        "\n",
        "drive.mount('/content/drive')"
      ]
    },
    {
      "cell_type": "code",
      "source": [
        "# Importa a sessão Spark e os SparkTypes\n",
        "from pyspark.sql import SparkSession\n",
        "from pyspark.sql.types import IntegerType, DoubleType"
      ],
      "metadata": {
        "id": "YTn1FgiDWUog"
      },
      "execution_count": 2,
      "outputs": []
    },
    {
      "cell_type": "code",
      "source": [
        "# Cria a sessão Spark (lembrar de fechar a sessão depois)\n",
        "spark = SparkSession.builder \\\n",
        "    .master('local[*]') \\\n",
        "    .appName(\"Challenge Semana 03\") \\\n",
        "    .getOrCreate()"
      ],
      "metadata": {
        "id": "6fuvNCz2W8Sa"
      },
      "execution_count": 3,
      "outputs": []
    },
    {
      "cell_type": "code",
      "source": [
        "#Lê o arquivo de dados da semana anterior\n",
        "dataset_imoveis = spark.read.parquet('/content/drive/MyDrive/Challenge Data Science/Semana 2/output_parquet_dataframe')"
      ],
      "metadata": {
        "id": "VPtC8TISXOcG"
      },
      "execution_count": 4,
      "outputs": []
    },
    {
      "cell_type": "code",
      "source": [
        "# Iniciando a etapa de Machine Learning\n",
        "\n",
        "from pyspark.ml.stat import Correlation\n",
        "import pandas as pd\n",
        "from pyspark.ml.feature import VectorAssembler"
      ],
      "metadata": {
        "id": "PPsZOvtGYb75"
      },
      "execution_count": 5,
      "outputs": []
    },
    {
      "cell_type": "code",
      "source": [
        "# Renomeando as colunas para a vetorização\n",
        "\n",
        "dataset_imoveis = dataset_imoveis.withColumnRenamed('valor','label')"
      ],
      "metadata": {
        "id": "WMhr-oqsY9Cz"
      },
      "execution_count": 6,
      "outputs": []
    },
    {
      "cell_type": "markdown",
      "source": [
        "#Vetorização"
      ],
      "metadata": {
        "id": "c9ro9OA4uVj9"
      }
    },
    {
      "cell_type": "code",
      "source": [
        "# Criando a lista de variáveis de input X\n",
        "X = dataset_imoveis.columns\n",
        "X.remove('id')\n",
        "X.remove('tipo_anuncio')\n",
        "X.remove('tipo_unidade')\n",
        "X.remove('tipo_uso')\n",
        "X.remove('bairro')\n",
        "X.remove('tipo')\n",
        "X.remove('label')\n",
        "X"
      ],
      "metadata": {
        "colab": {
          "base_uri": "https://localhost:8080/"
        },
        "id": "6StfwNv8ZLem",
        "outputId": "a46d6cfd-0d7f-4d11-9d17-b38c53d50cb6"
      },
      "execution_count": 7,
      "outputs": [
        {
          "output_type": "execute_result",
          "data": {
            "text/plain": [
              "['andar',\n",
              " 'area_util',\n",
              " 'banheiros',\n",
              " 'quartos',\n",
              " 'suites',\n",
              " 'vaga',\n",
              " 'condominio',\n",
              " 'iptu',\n",
              " 'Condomínio fechado',\n",
              " 'Playground',\n",
              " 'Portão eletrônico',\n",
              " 'Piscina',\n",
              " 'Animais permitidos',\n",
              " 'Portaria 24h',\n",
              " 'vazio',\n",
              " 'Elevador',\n",
              " 'Academia',\n",
              " 'Salão de festas',\n",
              " 'Churrasqueira',\n",
              " 'Zona Norte',\n",
              " 'Zona Oeste',\n",
              " 'Zona Central',\n",
              " 'Zona Sul']"
            ]
          },
          "metadata": {},
          "execution_count": 7
        }
      ]
    },
    {
      "cell_type": "code",
      "source": [
        "# Criando o Assemble de vetorização\n",
        "\n",
        "assembler = VectorAssembler(inputCols = X, outputCol = 'features')"
      ],
      "metadata": {
        "id": "sV2VeC9rZZUU"
      },
      "execution_count": 8,
      "outputs": []
    },
    {
      "cell_type": "code",
      "source": [
        "# Vetorizando o Dataframe\n",
        "\n",
        "dataset_imoveis_vetorizado = assembler.transform(dataset_imoveis)"
      ],
      "metadata": {
        "id": "hlgUkI6XaxUo"
      },
      "execution_count": 9,
      "outputs": []
    },
    {
      "cell_type": "markdown",
      "source": [
        "#Redução de Dimensionalidade com PCA e StandardScaler"
      ],
      "metadata": {
        "id": "2zBxCrOZuYsF"
      }
    },
    {
      "cell_type": "code",
      "source": [
        "# Redução de dimensionalidade dos hiperparametros\n",
        "from pyspark.ml.feature import StandardScaler\n",
        "\n",
        "scaler = StandardScaler(inputCol='features', outputCol='scaled_features')\n",
        "scaler_model = scaler.fit(dataset_imoveis_vetorizado)\n",
        "dados_imoveis_scaled = scaler_model.transform(dataset_imoveis_vetorizado)"
      ],
      "metadata": {
        "id": "Gu9bwABJa3Dz"
      },
      "execution_count": 10,
      "outputs": []
    },
    {
      "cell_type": "code",
      "source": [
        "# Aplicando o método PCA\n",
        "from pyspark.ml.feature import PCA\n",
        "\n",
        "pca = PCA(k=10, inputCol='scaled_features', outputCol='pca_features')\n",
        "model_pca = pca.fit(dados_imoveis_scaled)\n",
        "dados_imoveis_pca = model_pca.transform(dados_imoveis_scaled)"
      ],
      "metadata": {
        "id": "t1FUOZkVbIT1"
      },
      "execution_count": 11,
      "outputs": []
    },
    {
      "cell_type": "markdown",
      "source": [
        "#Utilizando o Kmeans para separar os clusters"
      ],
      "metadata": {
        "id": "m7Ktz5D7udbD"
      }
    },
    {
      "cell_type": "code",
      "source": [
        "# Utilizando o Kmeans para fazer o sistema de recomendação de imóveis\n",
        "\n",
        "from pyspark.ml.clustering import KMeans\n",
        "\n",
        "SEED = 1224\n",
        "kmeans = KMeans(featuresCol='pca_features', predictionCol='cluster_pca').setK(5).setSeed(SEED)\n",
        "model_kmeans = kmeans.fit(dados_imoveis_pca)\n",
        "dados_imoveis_kmeans = model_kmeans.transform(dados_imoveis_pca)"
      ],
      "metadata": {
        "id": "Who2Mif_bQmR"
      },
      "execution_count": 12,
      "outputs": []
    },
    {
      "cell_type": "code",
      "source": [
        "# Filtro de imóveis do mesmo cluster\n",
        "\n",
        "dados_imoveis_kmeans.filter(dados_imoveis_kmeans.cluster_pca == 1).show(10)"
      ],
      "metadata": {
        "id": "zg2qgR1RdyLw",
        "colab": {
          "base_uri": "https://localhost:8080/"
        },
        "outputId": "c8ac5f58-feec-46a1-9089-ed027e1ad933"
      },
      "execution_count": 13,
      "outputs": [
        {
          "output_type": "stream",
          "name": "stdout",
          "text": [
            "+--------------------+-----+---------+---------+-------+------+------------+------------+-----------+----+--------------+----------+-----+-----+--------+------------------+----------+-----------------+-------+------------------+------------+-----+--------+--------+---------------+-------------+----------+----------+------------+--------+--------------------+--------------------+--------------------+-----------+\n",
            "|                  id|andar|area_util|banheiros|quartos|suites|tipo_anuncio|tipo_unidade|   tipo_uso|vaga|        bairro|condominio| iptu| tipo|   label|Condomínio fechado|Playground|Portão eletrônico|Piscina|Animais permitidos|Portaria 24h|vazio|Elevador|Academia|Salão de festas|Churrasqueira|Zona Norte|Zona Oeste|Zona Central|Zona Sul|            features|     scaled_features|        pca_features|cluster_pca|\n",
            "+--------------------+-----+---------+---------+-------+------+------------+------------+-----------+----+--------------+----------+-----+-----+--------+------------------+----------+-----------------+-------+------------------+------------+-----+--------+--------+---------------+-------------+----------+----------+------------+--------+--------------------+--------------------+--------------------+-----------+\n",
            "|be269ddf-a4a3-4a7...|    0|     45.0|        1|      2|     0|       Usado| Apartamento|Residencial|   1|  Campo Grande|     356.0|  0.0|Venda|140000.0|                 1|         0|                0|      1|                 0|           0|    0|       0|       0|              0|            1|         0|         1|           0|       0|(23,[1,2,3,5,6,8,...|(23,[1,2,3,5,6,8,...|[-2.4341936592723...|          1|\n",
            "|390d2b88-e06d-47e...|    0|     70.0|        2|      2|     0|       Usado| Apartamento|Residencial|   1|    Praça Seca|  420000.0|  0.0|Venda|159000.0|                 0|         0|                0|      0|                 0|           0|    0|       0|       0|              1|            0|         0|         1|           0|       0|(23,[1,2,3,5,6,17...|(23,[1,2,3,5,6,17...|[-1.3121902480745...|          1|\n",
            "|07bb07c1-21cc-4da...|    2|     48.0|        1|      1|     0|       Usado| Apartamento|Residencial|   0|       Piedade|      10.0| 10.0|Venda|170000.0|                 1|         0|                0|      0|                 1|           0|    0|       0|       0|              0|            0|         1|         0|           0|       0|(23,[0,1,2,3,6,7,...|(23,[0,1,2,3,6,7,...|[-1.1153907208369...|          1|\n",
            "|74a91f07-7387-4a8...|    0|     55.0|        2|      1|     0|       Usado| Apartamento|Residencial|   1|  Engenho Novo|     600.0|652.0|Venda|219130.0|                 0|         0|                0|      0|                 0|           0|    0|       1|       0|              1|            0|         1|         0|           0|       0|(23,[1,2,3,5,6,7,...|(23,[1,2,3,5,6,7,...|[-1.2702047302994...|          1|\n",
            "|6aab1165-508d-455...|    3|     60.0|        1|      3|     0|       Usado| Apartamento|Residencial|   1|     Cascadura|      98.0|  1.0|Venda|230000.0|                 0|         0|                0|      0|                 1|           0|    0|       0|       0|              0|            0|         1|         0|           0|       0|(23,[0,1,2,3,5,6,...|(23,[0,1,2,3,5,6,...|[-0.7061848962512...|          1|\n",
            "|f5838234-f594-40b...|    0|     50.0|        1|      2|     0|       Usado| Apartamento|Residencial|   1|       Taquara|     150.0|  0.0|Venda|260000.0|                 1|         0|                0|      0|                 0|           0|    0|       0|       0|              0|            1|         0|         1|           0|       0|(23,[1,2,3,5,6,8,...|(23,[1,2,3,5,6,8,...|[-1.8156834157766...|          1|\n",
            "|fb92654a-fd08-499...|    4|     96.0|        2|      2|     0|       Usado| Apartamento|Residencial|   0|       Catumbi|     210.0| 57.0|Venda|260000.0|                 0|         0|                1|      0|                 0|           0|    0|       0|       0|              0|            0|         0|         0|           1|       0|(23,[0,1,2,3,6,7,...|(23,[0,1,2,3,6,7,...|[-0.8515042057571...|          1|\n",
            "|88e33840-f964-4b7...|    0|     55.0|        1|      2|     0|       Usado| Apartamento|Residencial|   1|       Taquara|     550.0| 70.0|Venda|260000.0|                 0|         1|                0|      1|                 0|           0|    0|       0|       0|              1|            1|         0|         1|           0|       0|(23,[1,2,3,5,6,7,...|(23,[1,2,3,5,6,7,...|[-3.0438948611465...|          1|\n",
            "|33893827-6418-4b7...|    3|    128.0|        2|      2|     0|       Usado| Apartamento|Residencial|   0|Maria da Graça|     250.0|100.0|Venda|270000.0|                 0|         0|                0|      0|                 1|           0|    0|       0|       0|              0|            0|         1|         0|           0|       0|(23,[0,1,2,3,6,7,...|(23,[0,1,2,3,6,7,...|[-0.6488698891572...|          1|\n",
            "|2a5b9055-529f-4e8...|    0|     55.0|        2|      2|     1|       Usado| Apartamento|Residencial|   1|  Campo Grande|     750.0| 70.0|Venda|280000.0|                 0|         1|                0|      1|                 0|           0|    0|       0|       0|              0|            1|         0|         1|           0|       0|(23,[1,2,3,4,5,6,...|(23,[1,2,3,4,5,6,...|[-2.5917613225057...|          1|\n",
            "+--------------------+-----+---------+---------+-------+------+------------+------------+-----------+----+--------------+----------+-----+-----+--------+------------------+----------+-----------------+-------+------------------+------------+-----+--------+--------+---------------+-------------+----------+----------+------------+--------+--------------------+--------------------+--------------------+-----------+\n",
            "only showing top 10 rows\n",
            "\n"
          ]
        }
      ]
    },
    {
      "cell_type": "code",
      "source": [
        "dados_imoveis_kmeans = dados_imoveis_kmeans.drop('vazio')\n",
        "dados_imoveis_kmeans.filter(dados_imoveis_kmeans.cluster_pca == 2).show(n=10, truncate = False)"
      ],
      "metadata": {
        "colab": {
          "base_uri": "https://localhost:8080/"
        },
        "id": "EVwvwzjdeo9C",
        "outputId": "6635da41-5b78-424e-d8ac-921a5e550511"
      },
      "execution_count": 14,
      "outputs": [
        {
          "output_type": "stream",
          "name": "stdout",
          "text": [
            "+------------------------------------+-----+---------+---------+-------+------+------------+------------+-----------+----+-----------------------+----------+------+-----+--------+------------------+----------+-----------------+-------+------------------+------------+--------+--------+---------------+-------------+----------+----------+------------+--------+--------------------------------------------------------------------------------------------------+---------------------------------------------------------------------------------------------------------------------------------------------------------------------------------------------------------------------------------------------------------------------------------------------------------------------------------+---------------------------------------------------------------------------------------------------------------------------------------------------------------------------------------------------------+-----------+\n",
            "|id                                  |andar|area_util|banheiros|quartos|suites|tipo_anuncio|tipo_unidade|tipo_uso   |vaga|bairro                 |condominio|iptu  |tipo |label   |Condomínio fechado|Playground|Portão eletrônico|Piscina|Animais permitidos|Portaria 24h|Elevador|Academia|Salão de festas|Churrasqueira|Zona Norte|Zona Oeste|Zona Central|Zona Sul|features                                                                                          |scaled_features                                                                                                                                                                                                                                                                                                                  |pca_features                                                                                                                                                                                             |cluster_pca|\n",
            "+------------------------------------+-----+---------+---------+-------+------+------------+------------+-----------+----+-----------------------+----------+------+-----+--------+------------------+----------+-----------------+-------+------------------+------------+--------+--------+---------------+-------------+----------+----------+------------+--------+--------------------------------------------------------------------------------------------------+---------------------------------------------------------------------------------------------------------------------------------------------------------------------------------------------------------------------------------------------------------------------------------------------------------------------------------+---------------------------------------------------------------------------------------------------------------------------------------------------------------------------------------------------------+-----------+\n",
            "|a1a0c2ac-4fa8-4b02-a087-f9d76b6bccb7|9    |55.0     |1        |2      |0     |Usado       |Apartamento |Residencial|1   |Freguesia (Jacarepaguá)|780.0     |660.0 |Venda|160000.0|1                 |0         |1                |0      |1                 |1           |1       |0       |1              |1            |0         |1         |0           |0       |[9.0,55.0,1.0,2.0,0.0,1.0,780.0,660.0,1.0,0.0,1.0,0.0,1.0,1.0,0.0,1.0,0.0,1.0,1.0,0.0,1.0,0.0,0.0]|[0.6123969714285997,0.6173466993605586,0.7362396662223195,2.2016866063842317,0.0,0.7446945957145213,0.007489371761979162,0.0038568923838121503,2.0026085133546143,0.0,2.0142729531052024,0.0,2.0064134830885783,2.0077275610929313,0.0,2.0916810693108707,0.0,2.0000684171352603,2.002135145733104,0.0,2.000067322774222,0.0,0.0]|[-4.584825684566921,0.8777591397887923,1.58107785845068,0.06847959490784683,-0.3154882415816737,-1.438513670913807,0.8545937928895928,0.27605447801892025,0.11594081683034081,-0.06776325514139914]      |2          |\n",
            "|a9bd1575-e9f2-43d7-850c-c8d1385e6908|2    |50.0     |1        |1      |0     |Usado       |Apartamento |Residencial|1   |Madureira              |650.0     |1.0   |Venda|185000.0|1                 |0         |1                |0      |1                 |0           |0       |0       |0              |0            |1         |0         |0           |0       |(23,[0,1,2,3,5,6,7,8,10,12,19],[2.0,50.0,1.0,1.0,1.0,650.0,1.0,1.0,1.0,1.0,1.0])                  |(23,[0,1,2,3,5,6,7,8,10,12,19],[0.13608821587302217,0.5612242721459624,0.7362396662223195,1.1008433031921159,0.7446945957145213,0.006241143134982635,5.843776339109319E-6,2.0026085133546143,2.0142729531052024,2.0064134830885783,2.610055206686534])                                                                           |[-1.7094475042369903,0.19587005801470242,1.8191415395687416,-2.3832129270807028,-0.3373050376961226,-1.6377551258956917,0.8462507879385596,-0.2920170644486174,-2.552763617901972E-4,0.7381819687847517] |2          |\n",
            "|2f0c8b93-2e9a-45ce-9216-3cf61481c09f|9    |26.0     |1        |1      |0     |Usado       |Apartamento |Residencial|0   |Copacabana             |450.0     |60.0  |Venda|290000.0|1                 |0         |1                |0      |1                 |1           |1       |0       |0              |0            |0         |0         |0           |1       |(23,[0,1,2,3,6,7,8,10,12,13,15,22],[9.0,26.0,1.0,1.0,450.0,60.0,1.0,1.0,1.0,1.0,1.0,1.0])         |(23,[0,1,2,3,6,7,8,10,12,13,15,22],[0.6123969714285997,0.29183662151590045,0.7362396662223195,1.1008433031921159,0.004320791401141824,3.506265803465591E-4,2.0026085133546143,2.0142729531052024,2.0064134830885783,2.0077275610929313,2.0916810693108707,2.165174202975551])                                                    |[-2.56752862568847,-0.3219014884043815,3.964931756355653,0.42152347077566754,-0.22226329457164817,-0.3193349590954426,0.35396249320250683,0.38008750990748874,0.02878203097995924,0.2156864649486634]    |2          |\n",
            "|8370da70-dde2-4b2c-8b2b-ef668c0b7f12|6    |38.0     |1        |1      |0     |Usado       |Apartamento |Residencial|1   |Copacabana             |450.0     |60.0  |Venda|350000.0|1                 |0         |1                |0      |1                 |1           |1       |0       |0              |0            |0         |0         |0           |1       |(23,[0,1,2,3,5,6,7,8,10,12,13,15,22],[6.0,38.0,1.0,1.0,1.0,450.0,60.0,1.0,1.0,1.0,1.0,1.0,1.0])   |(23,[0,1,2,3,5,6,7,8,10,12,13,15,22],[0.4082646476190665,0.4265304468309314,0.7362396662223195,1.1008433031921159,0.7446945957145213,0.004320791401141824,3.506265803465591E-4,2.0026085133546143,2.0142729531052024,2.0064134830885783,2.0077275610929313,2.0916810693108707,2.165174202975551])                                |[-2.633170913619072,-0.013837506862672572,3.9855407776879335,0.3351268178113487,-0.23568187707396926,-0.3472475752053066,0.4789699357677054,0.17763963896420637,0.032439191091378494,0.1699093520550703] |2          |\n",
            "|13d23e7c-e9ee-40f9-83d3-e77fb401ec47|12   |30.0     |1        |1      |0     |Usado       |Apartamento |Residencial|0   |Copacabana             |450.0     |87.0  |Venda|350000.0|1                 |0         |1                |0      |1                 |1           |1       |0       |0              |0            |0         |0         |0           |1       |(23,[0,1,2,3,6,7,8,10,12,13,15,22],[12.0,30.0,1.0,1.0,450.0,87.0,1.0,1.0,1.0,1.0,1.0,1.0])        |(23,[0,1,2,3,6,7,8,10,12,13,15,22],[0.816529295238133,0.33673456328757745,0.7362396662223195,1.1008433031921159,0.004320791401141824,5.084085415025107E-4,2.0026085133546143,2.0142729531052024,2.0064134830885783,2.0077275610929313,2.0916810693108707,2.165174202975551])                                                     |[-2.577579319952734,-0.3041602661331506,3.9886723676191105,0.4189686195781761,-0.22411218749549877,-0.39911906776493034,0.24934230324518591,0.5345253251170135,0.03201612870725272,0.20796517715663465]  |2          |\n",
            "|dbc53a7b-fd5c-457b-bc99-fa445e2ed22c|1    |60.0     |1        |2      |0     |Usado       |Apartamento |Residencial|1   |Méier                  |350.0     |0.0   |Venda|380000.0|1                 |0         |1                |0      |1                 |0           |0       |0       |0              |0            |1         |0         |0           |0       |(23,[0,1,2,3,5,6,8,10,12,19],[1.0,60.0,1.0,2.0,1.0,350.0,1.0,1.0,1.0,1.0])                        |(23,[0,1,2,3,5,6,8,10,12,19],[0.06804410793651108,0.6734691265751549,0.7362396662223195,2.2016866063842317,0.7446945957145213,0.003360615534221419,2.0026085133546143,2.0142729531052024,2.0064134830885783,2.610055206686534])                                                                                                  |[-1.7738568909869805,0.7113927312338519,1.9707361354443844,-2.536623764475998,-0.3625096702679597,-1.5761130964006427,0.8540009835434269,-0.3550615391730486,0.012171092591965013,0.8200230101405122]    |2          |\n",
            "|406fc037-8af7-4cd2-8231-f2ba75ede4ca|6    |30.0     |1        |1      |0     |Usado       |Apartamento |Residencial|0   |Copacabana             |722.0     |0.0   |Venda|419900.0|0                 |0         |0                |0      |0                 |1           |1       |0       |0              |0            |0         |0         |0           |1       |(23,[0,1,2,3,6,13,15,22],[6.0,30.0,1.0,1.0,722.0,1.0,1.0,1.0])                                    |(23,[0,1,2,3,6,13,15,22],[0.4082646476190665,0.33673456328757745,0.7362396662223195,1.1008433031921159,0.006932469759165327,2.0077275610929313,2.0916810693108707,2.165174202975551])                                                                                                                                            |[-0.9217583734447877,0.4125574986399474,2.372498618566471,0.2908248480613914,0.026639128053086616,1.037867619675797,-0.48884312631362586,0.4492358840640549,0.030055776171992038,-0.303503685795822]     |2          |\n",
            "|fdf75864-80ae-4146-abc4-6876cc16522e|2    |42.0     |1        |1      |0     |Usado       |Apartamento |Residencial|0   |Copacabana             |450.0     |60.0  |Venda|430000.0|1                 |0         |1                |0      |1                 |1           |1       |0       |0              |0            |0         |0         |0           |1       |(23,[0,1,2,3,6,7,8,10,12,13,15,22],[2.0,42.0,1.0,1.0,450.0,60.0,1.0,1.0,1.0,1.0,1.0,1.0])         |(23,[0,1,2,3,6,7,8,10,12,13,15,22],[0.13608821587302217,0.4714283886026084,0.7362396662223195,1.1008433031921159,0.004320791401141824,3.506265803465591E-4,2.0026085133546143,2.0142729531052024,2.0064134830885783,2.0077275610929313,2.0916810693108707,2.165174202975551])                                                    |[-2.554534486792063,-0.2395274303823077,3.966630154098241,0.40796552192713403,-0.2200036638479259,-0.1429787503640063,0.5816571152673392,0.0018345599255255585,0.01943445570791394,0.2333246463067784]   |2          |\n",
            "|a9863129-bb21-48e9-aafd-6b96ef23791b|5    |44.0     |1        |1      |0     |Usado       |Apartamento |Residencial|0   |Copacabana             |800.0     |96.0  |Venda|460000.0|0                 |0         |1                |0      |0                 |1           |1       |0       |0              |0            |0         |0         |0           |1       |(23,[0,1,2,3,6,7,10,13,15,22],[5.0,44.0,1.0,1.0,800.0,96.0,1.0,1.0,1.0,1.0])                      |(23,[0,1,2,3,6,7,10,13,15,22],[0.3402205396825554,0.4938773594884469,0.7362396662223195,1.1008433031921159,0.007681406935363243,5.610025285544946E-4,2.0142729531052024,2.0077275610929313,2.0916810693108707,2.165174202975551])                                                                                                |[-1.4488378171941227,0.22731572575479644,3.0545542263519545,0.3013418509115731,-0.08059114258476384,0.5609535116081281,-0.060941595525033865,0.2797305849666958,0.02886234343110443,-0.02583044301227433]|2          |\n",
            "|b43268be-c68f-42ee-9c0c-4a2e7ff40474|4    |57.0     |3        |2      |1     |Usado       |Apartamento |Residencial|0   |Copacabana             |879.0     |1179.0|Venda|535000.0|0                 |0         |0                |0      |1                 |1           |1       |0       |0              |0            |0         |0         |0           |1       |(23,[0,1,2,3,4,6,7,12,13,15,22],[4.0,57.0,3.0,2.0,1.0,879.0,1179.0,1.0,1.0,1.0,1.0])              |(23,[0,1,2,3,4,6,7,12,13,15,22],[0.27217643174604433,0.639795670246397,2.2087189986669586,2.2016866063842317,0.9384655104276752,0.008439945870230363,0.0068898123038098865,2.0064134830885783,2.0077275610929313,2.0916810693108707,2.165174202975551])                                                                          |[-1.7073255662706814,1.8084111769930957,3.414037678041152,-0.014090169350726489,-0.1236013267449644,0.6616566596755236,-0.31673658279704,0.13338147500473602,0.052854578833170976,-0.05496684309569044]  |2          |\n",
            "+------------------------------------+-----+---------+---------+-------+------+------------+------------+-----------+----+-----------------------+----------+------+-----+--------+------------------+----------+-----------------+-------+------------------+------------+--------+--------+---------------+-------------+----------+----------+------------+--------+--------------------------------------------------------------------------------------------------+---------------------------------------------------------------------------------------------------------------------------------------------------------------------------------------------------------------------------------------------------------------------------------------------------------------------------------+---------------------------------------------------------------------------------------------------------------------------------------------------------------------------------------------------------+-----------+\n",
            "only showing top 10 rows\n",
            "\n"
          ]
        }
      ]
    },
    {
      "cell_type": "code",
      "source": [
        "# Calculando a distância euclidiana dos imóveis\n",
        "\n",
        "from scipy.spatial.distance import euclidean\n",
        "from pyspark.sql.types import FloatType\n",
        "\n",
        "cluster = 2\n",
        "\n",
        "id_teste = '406fc037-8af7-4cd2-8231-f2ba75ede4ca'\n",
        "\n",
        "imoveis_recomendados = dados_imoveis_kmeans.filter(dados_imoveis_kmeans.cluster_pca == cluster)\\\n",
        "                                       .select('bairro', 'id', 'pca_features')\n",
        "                                       \n",
        "vetores_valor_imoveis = imoveis_recomendados.filter(imoveis_recomendados.id == id_teste)\\\n",
        "                                          .select('pca_features').collect()[0][0]"
      ],
      "metadata": {
        "id": "DQHhNf8ygM8j"
      },
      "execution_count": 15,
      "outputs": []
    },
    {
      "cell_type": "markdown",
      "source": [
        "# Define função que calcula a distância entre imóveis no espaço criado pelos parâmetros."
      ],
      "metadata": {
        "id": "SbSM6-JKuoCT"
      }
    },
    {
      "cell_type": "code",
      "source": [
        "# Definindo função de cálculo de distância\n",
        "\n",
        "def calcula_distancia(value):\n",
        "  return euclidean(vetores_valor_imoveis, value)"
      ],
      "metadata": {
        "id": "95HfvS99g_y_"
      },
      "execution_count": 16,
      "outputs": []
    },
    {
      "cell_type": "code",
      "source": [
        "vetores_valor_imoveis"
      ],
      "metadata": {
        "colab": {
          "base_uri": "https://localhost:8080/"
        },
        "id": "GxwAyQIajRJW",
        "outputId": "f7b95f00-0db9-4666-a25a-26c87a39c569"
      },
      "execution_count": 17,
      "outputs": [
        {
          "output_type": "execute_result",
          "data": {
            "text/plain": [
              "DenseVector([-0.9218, 0.4126, 2.3725, 0.2908, 0.0266, 1.0379, -0.4888, 0.4492, 0.0301, -0.3035])"
            ]
          },
          "metadata": {},
          "execution_count": 17
        }
      ]
    },
    {
      "cell_type": "markdown",
      "source": [
        "# Define a função recomendador"
      ],
      "metadata": {
        "id": "X61HtV5ouu8q"
      }
    },
    {
      "cell_type": "code",
      "source": [
        "from pyspark.sql.functions import udf\n",
        "\n",
        "def recomendador_imoveis(imovel_id):\n",
        "  cluster = dados_imoveis_kmeans.filter(dados_imoveis_kmeans.id == imovel_id).select('cluster_pca').collect()[0][0]\n",
        "  imoveis_recomendados = dados_imoveis_kmeans.filter(dados_imoveis_kmeans.cluster_pca == cluster)\\\n",
        "                                              .select('bairro', 'id', 'pca_features')                \n",
        "  vetores_valor_imoveis = imoveis_recomendados.filter(imoveis_recomendados.id == imovel_id)\\\n",
        "                                              .select('pca_features').collect()[0][0]\n",
        "  udf_distancia_calculada = udf(calcula_distancia, FloatType())\n",
        "\n",
        "  imoveis_recomendados_dist = imoveis_recomendados.withColumn('Dist', udf_distancia_calculada('pca_features'))\n",
        "\n",
        "  recomendadas = spark.createDataFrame(imoveis_recomendados_dist.sort('Dist').take(10)).select(['bairro', 'id', 'Dist'])\n",
        "\n",
        "  recomendadas.show(truncate=False)"
      ],
      "metadata": {
        "id": "2vZ9I08Bluw4"
      },
      "execution_count": 18,
      "outputs": []
    },
    {
      "cell_type": "code",
      "source": [
        "recomendador_imoveis('406fc037-8af7-4cd2-8231-f2ba75ede4ca')"
      ],
      "metadata": {
        "colab": {
          "base_uri": "https://localhost:8080/"
        },
        "id": "SSxbcYHjms1a",
        "outputId": "333b4785-0598-45d3-e1dd-419edeee066f"
      },
      "execution_count": 19,
      "outputs": [
        {
          "output_type": "stream",
          "name": "stdout",
          "text": [
            "+----------+------------------------------------+--------------------+\n",
            "|bairro    |id                                  |Dist                |\n",
            "+----------+------------------------------------+--------------------+\n",
            "|Copacabana|406fc037-8af7-4cd2-8231-f2ba75ede4ca|0.0                 |\n",
            "|Copacabana|995eaac4-80b2-4dc0-b75f-bf3eb0569c95|0.00117090146522969 |\n",
            "|Copacabana|f9f22d5c-4f4f-4e80-b6a2-af3ccf4b6e0c|0.005570203065872192|\n",
            "|Copacabana|e61edd0a-1ee4-4275-880e-ea339492df99|0.05017727240920067 |\n",
            "|Copacabana|350bc21e-b0bb-4237-a214-a2d44dfbfba5|0.06803227961063385 |\n",
            "|Copacabana|87076407-0bd6-4fc0-a71b-4162c07d4dd2|0.06804215162992477 |\n",
            "|Copacabana|95dc02a0-50e7-412a-9d1a-d094c2e519c7|0.06869017332792282 |\n",
            "|Copacabana|51e1d4b9-d2fd-43bd-b34b-7b2399b2ffb2|0.06908772140741348 |\n",
            "|Flamengo  |e80eb0e9-f1bc-487d-9c78-998c42db7f96|0.06994132697582245 |\n",
            "|Copacabana|8c025393-6e6b-4573-87e0-0f9d47672e21|0.0832333192229271  |\n",
            "+----------+------------------------------------+--------------------+\n",
            "\n"
          ]
        }
      ]
    },
    {
      "cell_type": "code",
      "source": [
        "dataset_imoveis.show(n=5, truncate=False)"
      ],
      "metadata": {
        "colab": {
          "base_uri": "https://localhost:8080/"
        },
        "id": "i4KG8b4lqj5L",
        "outputId": "ef98ee6d-3ac7-472a-80bc-b241c598445e"
      },
      "execution_count": 20,
      "outputs": [
        {
          "output_type": "stream",
          "name": "stdout",
          "text": [
            "+------------------------------------+-----+---------+---------+-------+------+------------+------------+-----------+----+------------+----------+------+-----+--------+------------------+----------+-----------------+-------+------------------+------------+-----+--------+--------+---------------+-------------+----------+----------+------------+--------+\n",
            "|id                                  |andar|area_util|banheiros|quartos|suites|tipo_anuncio|tipo_unidade|tipo_uso   |vaga|bairro      |condominio|iptu  |tipo |label   |Condomínio fechado|Playground|Portão eletrônico|Piscina|Animais permitidos|Portaria 24h|vazio|Elevador|Academia|Salão de festas|Churrasqueira|Zona Norte|Zona Oeste|Zona Central|Zona Sul|\n",
            "+------------------------------------+-----+---------+---------+-------+------+------------+------------+-----------+----+------------+----------+------+-----+--------+------------------+----------+-----------------+-------+------------------+------------+-----+--------+--------+---------------+-------------+----------+----------+------------+--------+\n",
            "|03a386b6-7ab8-4eff-891d-f8a16efc1989|0    |43.0     |1        |2      |0     |Usado       |Apartamento |Residencial|1   |Realengo    |285.0     |0.0   |Venda|22999.0 |1                 |1         |1                |0      |1                 |1           |0    |0       |1       |1              |1            |0         |1         |0           |0       |\n",
            "|1fe78d41-b8e0-4d21-a1a8-72cb7863f441|0    |44.0     |1        |2      |0     |Usado       |Apartamento |Residencial|0   |Irajá       |170.0     |0.0   |Venda|110000.0|0                 |0         |0                |0      |0                 |0           |1    |0       |0       |0              |0            |1         |0         |0           |0       |\n",
            "|1fa1c1e5-e98c-433f-9675-1b43d7d6da01|4    |55.0     |1        |2      |0     |Usado       |Apartamento |Residencial|1   |Cosmos      |0.0       |0.0   |Venda|115000.0|0                 |0         |0                |0      |0                 |0           |1    |0       |0       |0              |0            |0         |1         |0           |0       |\n",
            "|a6ab01ae-3d40-40e7-bb6a-f2334e0abbe0|2    |55.0     |1        |2      |0     |Usado       |Apartamento |Residencial|0   |Tomás Coelho|0.0       |0.0   |Venda|115000.0|0                 |0         |0                |0      |0                 |0           |1    |0       |0       |0              |0            |1         |0         |0           |0       |\n",
            "|1d8ff7a2-16bd-4e3f-a92e-1b85f923ebb0|0    |50.0     |1        |1      |0     |Usado       |Apartamento |Residencial|0   |Centro      |1300.0    |2679.0|Venda|125000.0|0                 |0         |0                |0      |0                 |0           |1    |0       |0       |0              |0            |0         |0         |1           |0       |\n",
            "+------------------------------------+-----+---------+---------+-------+------+------------+------------+-----------+----+------------+----------+------+-----+--------+------------------+----------+-----------------+-------+------------------+------------+-----+--------+--------+---------------+-------------+----------+----------+------------+--------+\n",
            "only showing top 5 rows\n",
            "\n"
          ]
        }
      ]
    },
    {
      "cell_type": "code",
      "source": [
        "recomendador_imoveis('03a386b6-7ab8-4eff-891d-f8a16efc1989')"
      ],
      "metadata": {
        "id": "WTrAqiwerM7P",
        "colab": {
          "base_uri": "https://localhost:8080/"
        },
        "outputId": "5da4a825-78c9-4443-e22f-b7d85dad57b0"
      },
      "execution_count": 21,
      "outputs": [
        {
          "output_type": "stream",
          "name": "stdout",
          "text": [
            "+------------+------------------------------------+------------------+\n",
            "|bairro      |id                                  |Dist              |\n",
            "+------------+------------------------------------+------------------+\n",
            "|Copacabana  |0a085dd9-c26e-4292-aad3-bc2ec0af2d8c|3.6586050987243652|\n",
            "|Leblon      |8c07ae9e-38db-4d00-8e95-7559d876cab2|3.672654867172241 |\n",
            "|Leblon      |f4e9821d-e149-4c8d-9faf-6713d025f9b4|3.694117307662964 |\n",
            "|Laranjeiras |70ee9a62-1e8d-433b-93a3-db28c0f692d0|3.7030081748962402|\n",
            "|Laranjeiras |e5b09b28-8ad1-4e57-a23f-33ed856c38fd|3.8990461826324463|\n",
            "|Copacabana  |05128952-0422-4e6e-8b41-aebf27aa602d|3.9733035564422607|\n",
            "|Flamengo    |d0190116-9d94-45e5-b157-4a8f74f33918|3.973332166671753 |\n",
            "|Campo Grande|9c0039db-a54f-470d-a52f-f9d89dc31fea|3.9744839668273926|\n",
            "|Campo Grande|77cbb46a-438d-4b17-bc69-35b55f25243f|3.9750795364379883|\n",
            "|Humaitá     |efb55e0c-9c40-4a53-bef3-da69e787d039|3.9999611377716064|\n",
            "+------------+------------------------------------+------------------+\n",
            "\n"
          ]
        }
      ]
    },
    {
      "cell_type": "markdown",
      "source": [
        "#Desafio Extra! - Criando um pipeline\n",
        "Foi utilizado para o Pipeline as informações geradas pelo VectorAssembler,StandardScaler e PCA."
      ],
      "metadata": {
        "id": "UvTdcxVAuzFa"
      }
    },
    {
      "cell_type": "code",
      "source": [
        "# Desafio Extra! Criando um Pipeline\n",
        "\n",
        "from pyspark.ml import Pipeline\n",
        "\n",
        "pca_pipeline = Pipeline(stages=[VectorAssembler(inputCols=X, outputCol='features'),\n",
        "                                StandardScaler(inputCol='features', outputCol='scaled_features'),\n",
        "                                PCA(k=10, inputCol='scaled_features', outputCol='pca_features')])"
      ],
      "metadata": {
        "id": "bppN6oCjrWIe"
      },
      "execution_count": 23,
      "outputs": []
    },
    {
      "cell_type": "code",
      "source": [
        "pca_pipeline_imoveis = pca_pipeline.fit(dataset_imoveis)\n",
        "dataset_imoveis_pipeline = pca_pipeline_imoveis.transform(dataset_imoveis)\n",
        "dataset_imoveis_pipeline.show(5)"
      ],
      "metadata": {
        "id": "L1UK60lqriYB",
        "colab": {
          "base_uri": "https://localhost:8080/"
        },
        "outputId": "404a5861-0bee-40cf-f531-76aee13ccd10"
      },
      "execution_count": 25,
      "outputs": [
        {
          "output_type": "stream",
          "name": "stdout",
          "text": [
            "+--------------------+-----+---------+---------+-------+------+------------+------------+-----------+----+------------+----------+------+-----+--------+------------------+----------+-----------------+-------+------------------+------------+-----+--------+--------+---------------+-------------+----------+----------+------------+--------+--------------------+--------------------+--------------------+\n",
            "|                  id|andar|area_util|banheiros|quartos|suites|tipo_anuncio|tipo_unidade|   tipo_uso|vaga|      bairro|condominio|  iptu| tipo|   label|Condomínio fechado|Playground|Portão eletrônico|Piscina|Animais permitidos|Portaria 24h|vazio|Elevador|Academia|Salão de festas|Churrasqueira|Zona Norte|Zona Oeste|Zona Central|Zona Sul|            features|     scaled_features|        pca_features|\n",
            "+--------------------+-----+---------+---------+-------+------+------------+------------+-----------+----+------------+----------+------+-----+--------+------------------+----------+-----------------+-------+------------------+------------+-----+--------+--------+---------------+-------------+----------+----------+------------+--------+--------------------+--------------------+--------------------+\n",
            "|03a386b6-7ab8-4ef...|    0|     43.0|        1|      2|     0|       Usado| Apartamento|Residencial|   1|    Realengo|     285.0|   0.0|Venda| 22999.0|                 1|         1|                1|      0|                 1|           1|    0|       0|       1|              1|            1|         0|         1|           0|       0|(23,[1,2,3,5,6,8,...|(23,[1,2,3,5,6,8,...|[-5.2690837653545...|\n",
            "|1fe78d41-b8e0-4d2...|    0|     44.0|        1|      2|     0|       Usado| Apartamento|Residencial|   0|       Irajá|     170.0|   0.0|Venda|110000.0|                 0|         0|                0|      0|                 0|           0|    1|       0|       0|              0|            0|         1|         0|           0|       0|(23,[1,2,3,6,14,1...|(23,[1,2,3,6,14,1...|[0.61568239138357...|\n",
            "|1fa1c1e5-e98c-433...|    4|     55.0|        1|      2|     0|       Usado| Apartamento|Residencial|   1|      Cosmos|       0.0|   0.0|Venda|115000.0|                 0|         0|                0|      0|                 0|           0|    1|       0|       0|              0|            0|         0|         1|           0|       0|(23,[0,1,2,3,5,14...|(23,[0,1,2,3,5,14...|[0.05346370593949...|\n",
            "|a6ab01ae-3d40-40e...|    2|     55.0|        1|      2|     0|       Usado| Apartamento|Residencial|   0|Tomás Coelho|       0.0|   0.0|Venda|115000.0|                 0|         0|                0|      0|                 0|           0|    1|       0|       0|              0|            0|         1|         0|           0|       0|(23,[0,1,2,3,14,1...|(23,[0,1,2,3,14,1...|[0.60555529969209...|\n",
            "|1d8ff7a2-16bd-4e3...|    0|     50.0|        1|      1|     0|       Usado| Apartamento|Residencial|   0|      Centro|    1300.0|2679.0|Venda|125000.0|                 0|         0|                0|      0|                 0|           0|    1|       0|       0|              0|            0|         0|         0|           1|       0|(23,[1,2,3,6,7,14...|(23,[1,2,3,6,7,14...|[0.48456680564758...|\n",
            "+--------------------+-----+---------+---------+-------+------+------------+------------+-----------+----+------------+----------+------+-----+--------+------------------+----------+-----------------+-------+------------------+------------+-----+--------+--------+---------------+-------------+----------+----------+------------+--------+--------------------+--------------------+--------------------+\n",
            "only showing top 5 rows\n",
            "\n"
          ]
        }
      ]
    },
    {
      "cell_type": "markdown",
      "source": [
        "#Desafio Extra! - Avaliando as informações dos Clusters gerados.\n",
        "Utilizei o Summary, extraindo dele somente a informação 'mean', para analisar cada um dos clusters separadamente."
      ],
      "metadata": {
        "id": "owJUy12Du63P"
      }
    },
    {
      "cell_type": "code",
      "source": [
        "# Desafio Extra! Avaliando as informações dos clusters gerados\n",
        "print('Cluster 0')\n",
        "dados_imoveis_kmeans.filter(dados_imoveis_kmeans.cluster_pca == 0).summary('mean').show()\n",
        "print('Cluster 1')\n",
        "dados_imoveis_kmeans.filter(dados_imoveis_kmeans.cluster_pca == 1).summary('mean').show()\n",
        "print('Cluster 2')\n",
        "dados_imoveis_kmeans.filter(dados_imoveis_kmeans.cluster_pca == 2).summary('mean').show()\n",
        "print('Cluster 3')\n",
        "dados_imoveis_kmeans.filter(dados_imoveis_kmeans.cluster_pca == 3).summary('mean').show()\n",
        "print('Cluster 4')\n",
        "dados_imoveis_kmeans.filter(dados_imoveis_kmeans.cluster_pca == 4).summary('mean').show()"
      ],
      "metadata": {
        "colab": {
          "base_uri": "https://localhost:8080/"
        },
        "id": "G3giE8jiMWpJ",
        "outputId": "83a2f1ca-3319-4a94-d9b6-9b25842c565b"
      },
      "execution_count": 41,
      "outputs": [
        {
          "output_type": "stream",
          "name": "stdout",
          "text": [
            "Cluster 0\n",
            "+-------+----+------------------+-----------------+------------------+-----------------+------------------+------------+------------+--------+------------------+------+-----------------+------------------+----+----------------+------------------+------------------+------------------+------------------+------------------+------------------+------------------+------------------+------------------+------------------+-------------------+------------------+-------------------+-------------------+-----------+\n",
            "|summary|  id|             andar|        area_util|         banheiros|          quartos|            suites|tipo_anuncio|tipo_unidade|tipo_uso|              vaga|bairro|       condominio|              iptu|tipo|           label|Condomínio fechado|        Playground| Portão eletrônico|           Piscina|Animais permitidos|      Portaria 24h|          Elevador|          Academia|   Salão de festas|     Churrasqueira|         Zona Norte|        Zona Oeste|       Zona Central|           Zona Sul|cluster_pca|\n",
            "+-------+----+------------------+-----------------+------------------+-----------------+------------------+------------+------------+--------+------------------+------+-----------------+------------------+----+----------------+------------------+------------------+------------------+------------------+------------------+------------------+------------------+------------------+------------------+------------------+-------------------+------------------+-------------------+-------------------+-----------+\n",
            "|   mean|null|3.5108203772570454|90.04498409426945|2.1472736233702228|2.465746673238048|1.0687754827725255|        null|        null|    null|1.2822259061785923|  null|4217.012455755186|3108.8046955508757|null|864847.936690712|0.9536269546126619|0.9185447376674583|0.7822483086159774|0.9486088086383798|0.7918813566916081|0.8469913526591694|0.9366459070746898|0.9161252744298579|0.9595860029571217|0.9283570052421704|0.15843003718804605|0.7045118508893767|0.02598682736681751|0.11107128455575967|        0.0|\n",
            "+-------+----+------------------+-----------------+------------------+-----------------+------------------+------------+------------+--------+------------------+------+-----------------+------------------+----+----------------+------------------+------------------+------------------+------------------+------------------+------------------+------------------+------------------+------------------+------------------+-------------------+------------------+-------------------+-------------------+-----------+\n",
            "\n",
            "Cluster 1\n",
            "+-------+----+------------------+-----------------+------------------+------------------+------------------+------------+------------+--------+------------------+------+------------------+-----------------+----+------------------+-------------------+-------------------+--------------------+-------------------+-------------------+-------------------+------------------+-------------------+------------------+-------------------+-------------------+-------------------+------------------+-------------------+-----------+\n",
            "|summary|  id|             andar|        area_util|         banheiros|           quartos|            suites|tipo_anuncio|tipo_unidade|tipo_uso|              vaga|bairro|        condominio|             iptu|tipo|             label| Condomínio fechado|         Playground|   Portão eletrônico|            Piscina| Animais permitidos|       Portaria 24h|          Elevador|           Academia|   Salão de festas|      Churrasqueira|         Zona Norte|         Zona Oeste|      Zona Central|           Zona Sul|cluster_pca|\n",
            "+-------+----+------------------+-----------------+------------------+------------------+------------------+------------+------------+--------+------------------+------+------------------+-----------------+----+------------------+-------------------+-------------------+--------------------+-------------------+-------------------+-------------------+------------------+-------------------+------------------+-------------------+-------------------+-------------------+------------------+-------------------+-----------+\n",
            "|   mean|null|0.5499774149835452|96.68290636897464|2.1884235658514553|2.4570562044266633|0.7671807446602569|        null|        null|    null|1.1179583145124863|  null|2476.8353874943537|5300.422081693231|null|1013858.9980641415|0.13415499774149836|0.35271342840549785|0.031619023036716785|0.39291475769503775|0.09027553720074853|0.04846099245015164|0.5888881719042395|0.14157578886236047|0.3667806672259147|0.37981544815125506|0.26592243660063236|0.40098083500032267|0.0105181648060915|0.32232044911918434|        1.0|\n",
            "+-------+----+------------------+-----------------+------------------+------------------+------------------+------------+------------+--------+------------------+------+------------------+-----------------+----+------------------+-------------------+-------------------+--------------------+-------------------+-------------------+-------------------+------------------+-------------------+------------------+-------------------+-------------------+-------------------+------------------+-------------------+-----------+\n",
            "\n",
            "Cluster 2\n",
            "+-------+----+------------------+-----------------+------------------+-----------------+------------------+------------+------------+--------+------------------+------+-----------------+----------------+----+-----------------+------------------+-------------------+-----------------+-------------------+------------------+------------------+------------------+-------------------+-------------------+-------------------+-------------------+-------------------+--------------------+------------------+-----------+\n",
            "|summary|  id|             andar|        area_util|         banheiros|          quartos|            suites|tipo_anuncio|tipo_unidade|tipo_uso|              vaga|bairro|       condominio|            iptu|tipo|            label|Condomínio fechado|         Playground|Portão eletrônico|            Piscina|Animais permitidos|      Portaria 24h|          Elevador|           Academia|    Salão de festas|      Churrasqueira|         Zona Norte|         Zona Oeste|        Zona Central|          Zona Sul|cluster_pca|\n",
            "+-------+----+------------------+-----------------+------------------+-----------------+------------------+------------+------------+--------+------------------+------+-----------------+----------------+----+-----------------+------------------+-------------------+-----------------+-------------------+------------------+------------------+------------------+-------------------+-------------------+-------------------+-------------------+-------------------+--------------------+------------------+-----------+\n",
            "|   mean|null|3.7463271302644467|97.49243660898901|1.9745347698334965|2.264990749809555|0.6170421155729677|        null|        null|    null|0.8221786919142453|  null|5498.187071498531|5675.18848623354|null|1167559.210577865|0.7498095549026009|0.15594732832734792|0.854826422896942|0.07824572858852977|0.8491674828599413|0.7898574382413756|0.8250081619327456|0.07193383393187507|0.19925998476439222|0.06018065077810426|0.17227119381869627|0.12101425617586245|0.028077048645119163|0.6785286755903798|        2.0|\n",
            "+-------+----+------------------+-----------------+------------------+-----------------+------------------+------------+------------+--------+------------------+------+-----------------+----------------+----+-----------------+------------------+-------------------+-----------------+-------------------+------------------+------------------+------------------+-------------------+-------------------+-------------------+-------------------+-------------------+--------------------+------------------+-----------+\n",
            "\n",
            "Cluster 3\n",
            "+-------+----+------------------+------------------+-----------------+-----------------+------------------+------------+------------+--------+------------------+------+------------------+------------------+----+-----------------+------------------+------------------+-----------------+------------------+------------------+------------------+------------------+------------------+-----------------+------------------+--------------------+-----------------+------------+-------------------+-----------+\n",
            "|summary|  id|             andar|         area_util|        banheiros|          quartos|            suites|tipo_anuncio|tipo_unidade|tipo_uso|              vaga|bairro|        condominio|              iptu|tipo|            label|Condomínio fechado|        Playground|Portão eletrônico|           Piscina|Animais permitidos|      Portaria 24h|          Elevador|          Academia|  Salão de festas|     Churrasqueira|          Zona Norte|       Zona Oeste|Zona Central|           Zona Sul|cluster_pca|\n",
            "+-------+----+------------------+------------------+-----------------+-----------------+------------------+------------+------------+--------+------------------+------+------------------+------------------+----+-----------------+------------------+------------------+-----------------+------------------+------------------+------------------+------------------+------------------+-----------------+------------------+--------------------+-----------------+------------+-------------------+-----------+\n",
            "|   mean|null|3.5544227455485355|280.90048822515797|4.955485353245261|3.950746697300402|3.1460367604824815|        null|        null|    null|3.2113727742676623|  null|13472.140292935095|13857.886846639862|null|3597132.586013785|0.6780585870189546|0.6395749569213096|0.503877082136703|0.7547386559448592|0.5251292360712234|0.4860712234348076|0.7775703618609994|0.6230614589316484|0.668150488225158|0.6576680068925904|0.021108558299827686|0.829408385985066|         0.0|0.14933946008041354|        3.0|\n",
            "+-------+----+------------------+------------------+-----------------+-----------------+------------------+------------+------------+--------+------------------+------+------------------+------------------+----+-----------------+------------------+------------------+-----------------+------------------+------------------+------------------+------------------+------------------+-----------------+------------------+--------------------+-----------------+------------+-------------------+-----------+\n",
            "\n",
            "Cluster 4\n",
            "+-------+----+------------------+------------------+------------------+------------------+------------------+------------+------------+--------+------------------+------+------------------+------------------+----+------------------+--------------------+--------------------+-------------------+-------+--------------------+--------------------+--------+--------------------+---------------+-------------+------------------+-------------------+--------------------+------------------+-----------+\n",
            "|summary|  id|             andar|         area_util|         banheiros|           quartos|            suites|tipo_anuncio|tipo_unidade|tipo_uso|              vaga|bairro|        condominio|              iptu|tipo|             label|  Condomínio fechado|          Playground|  Portão eletrônico|Piscina|  Animais permitidos|        Portaria 24h|Elevador|            Academia|Salão de festas|Churrasqueira|        Zona Norte|         Zona Oeste|        Zona Central|          Zona Sul|cluster_pca|\n",
            "+-------+----+------------------+------------------+------------------+------------------+------------------+------------+------------+--------+------------------+------+------------------+------------------+----+------------------+--------------------+--------------------+-------------------+-------+--------------------+--------------------+--------+--------------------+---------------+-------------+------------------+-------------------+--------------------+------------------+-----------+\n",
            "|   mean|null|0.7565314063368538|111.98356229651394|2.2940522512506947|2.5757166679901533|0.8295084570793297|        null|        null|    null|1.0752005082188518|  null|2599.4087191296753|1843.2703883109664|null|1220251.0466131978|7.146827602636385E-4|1.588183911696974...|8.73501151433336E-4|    0.0|0.006829190820296991|0.005002779321845469|     0.0|1.588183911696974...|            0.0|          0.0|0.1993170809179703|0.32978638926387677|0.011355514968633369|0.4591439688715953|        4.0|\n",
            "+-------+----+------------------+------------------+------------------+------------------+------------------+------------+------------+--------+------------------+------+------------------+------------------+----+------------------+--------------------+--------------------+-------------------+-------+--------------------+--------------------+--------+--------------------+---------------+-------------+------------------+-------------------+--------------------+------------------+-----------+\n",
            "\n"
          ]
        }
      ]
    },
    {
      "cell_type": "markdown",
      "source": [
        "#Analisando as diferenças entre Clusters\n",
        "Analisando do ponto de vista de área útil, podemos ver que os clusters podem ser separados com média mais baixa ou mais alta de área, o que sempre se reflete no preço ( 86 mil do Cluster 0 contra 359 mil do Cluster 3). O cluster 3 possui uma média de área útil de 280 m², maior, enquanto o cluster 0 possui a menor média, 90 m². \n",
        "\n",
        "Podemos pensar, baseados nisso, que os imóveis da Zona Oeste (maioria do Cluster 0), são em média menores e mais baratos do que os da Zona Sul (maioria do Cluster 3).\n",
        "\n",
        "Realmente é possível passar horas analisando esses dados e tirando novas conclusões, mas isso, em minha opinião, reforça a qualidade do método do KMeans para agrupar imóveis por ele considerado parecidos e gerando estes clusters. Com certeza é uma ferramenta que irei utilizar muito em minha jornada como cientista de dados."
      ],
      "metadata": {
        "id": "RxQkcZKHvFeY"
      }
    },
    {
      "cell_type": "code",
      "source": [
        "spark.stop"
      ],
      "metadata": {
        "id": "NvSdgeNNwzAR"
      },
      "execution_count": null,
      "outputs": []
    },
    {
      "cell_type": "code",
      "source": [],
      "metadata": {
        "id": "WKUt4pljw0m7"
      },
      "execution_count": null,
      "outputs": []
    }
  ]
}