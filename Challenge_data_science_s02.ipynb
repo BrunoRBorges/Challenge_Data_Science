{
  "nbformat": 4,
  "nbformat_minor": 0,
  "metadata": {
    "colab": {
      "provenance": [],
      "authorship_tag": "ABX9TyM/W1sQ8dCRzfD1Rqsb9dZG",
      "include_colab_link": true
    },
    "kernelspec": {
      "name": "python3",
      "display_name": "Python 3"
    },
    "language_info": {
      "name": "python"
    }
  },
  "cells": [
    {
      "cell_type": "markdown",
      "metadata": {
        "id": "view-in-github",
        "colab_type": "text"
      },
      "source": [
        "<a href=\"https://colab.research.google.com/github/BrunoRBorges/Challenge_Data_Science/blob/main/Challenge_data_science_s02.ipynb\" target=\"_parent\"><img src=\"https://colab.research.google.com/assets/colab-badge.svg\" alt=\"Open In Colab\"/></a>"
      ]
    },
    {
      "cell_type": "code",
      "execution_count": 1,
      "metadata": {
        "colab": {
          "base_uri": "https://localhost:8080/"
        },
        "id": "_581GP4sWUaV",
        "outputId": "4a178eac-be32-4a05-e4cf-609f3b0c56eb"
      },
      "outputs": [
        {
          "output_type": "stream",
          "name": "stdout",
          "text": [
            "Mounted at /content/drive\n"
          ]
        }
      ],
      "source": [
        "#Importa o Google Drive para o notebook\n",
        "from google.colab import drive\n",
        "\n",
        "drive.mount('/content/drive')"
      ]
    },
    {
      "cell_type": "code",
      "source": [
        "# Instala o PySpark na máquina virtual\n",
        "!pip install pyspark"
      ],
      "metadata": {
        "colab": {
          "base_uri": "https://localhost:8080/"
        },
        "id": "d-V_aJ4bWhvb",
        "outputId": "a0293479-9d62-4c8e-94fc-87164e1ce2fd"
      },
      "execution_count": 2,
      "outputs": [
        {
          "output_type": "stream",
          "name": "stdout",
          "text": [
            "Looking in indexes: https://pypi.org/simple, https://us-python.pkg.dev/colab-wheels/public/simple/\n",
            "Collecting pyspark\n",
            "  Downloading pyspark-3.3.1.tar.gz (281.4 MB)\n",
            "\u001b[K     |████████████████████████████████| 281.4 MB 38 kB/s \n",
            "\u001b[?25hCollecting py4j==0.10.9.5\n",
            "  Downloading py4j-0.10.9.5-py2.py3-none-any.whl (199 kB)\n",
            "\u001b[K     |████████████████████████████████| 199 kB 65.7 MB/s \n",
            "\u001b[?25hBuilding wheels for collected packages: pyspark\n",
            "  Building wheel for pyspark (setup.py) ... \u001b[?25l\u001b[?25hdone\n",
            "  Created wheel for pyspark: filename=pyspark-3.3.1-py2.py3-none-any.whl size=281845512 sha256=1f77f77bb970554f7268a1e668ce1e4e285a398d007d29ed0b454e0eb50ac027\n",
            "  Stored in directory: /root/.cache/pip/wheels/43/dc/11/ec201cd671da62fa9c5cc77078235e40722170ceba231d7598\n",
            "Successfully built pyspark\n",
            "Installing collected packages: py4j, pyspark\n",
            "Successfully installed py4j-0.10.9.5 pyspark-3.3.1\n"
          ]
        }
      ]
    },
    {
      "cell_type": "code",
      "source": [
        "# Importa a sessão Spark e os SparkTypes\n",
        "from pyspark.sql import SparkSession\n",
        "from pyspark.sql.types import IntegerType, DoubleType"
      ],
      "metadata": {
        "id": "pZ19VIm3XWLC"
      },
      "execution_count": 3,
      "outputs": []
    },
    {
      "cell_type": "code",
      "source": [
        "# Cria a sessão Spark (lembrar de fechar a sessão depois)\n",
        "spark = SparkSession.builder \\\n",
        "    .master('local[*]') \\\n",
        "    .appName(\"Challenge Semana 02\") \\\n",
        "    .getOrCreate()"
      ],
      "metadata": {
        "id": "qqdX7vcVXvcg"
      },
      "execution_count": 4,
      "outputs": []
    },
    {
      "cell_type": "code",
      "source": [
        "#Lê o arquivo Parquet e salva num dataset Spark\n",
        "dataset_imoveis = spark.read.parquet('/content/drive/MyDrive/Challenge Data Science/Semana 2/part-00000-00341ba7-0a7c-4fef-a81e-1066725a64b1-c000.snappy.parquet')"
      ],
      "metadata": {
        "id": "c3BI_XDeX1x8"
      },
      "execution_count": 5,
      "outputs": []
    },
    {
      "cell_type": "code",
      "source": [
        "#Coluna provisória, leitura de dados\n",
        "\n",
        "dataset_imoveis.printSchema()\n",
        "dataset_imoveis.show(5)"
      ],
      "metadata": {
        "colab": {
          "base_uri": "https://localhost:8080/"
        },
        "id": "JRxA1NiXdoF6",
        "outputId": "aebbd561-b39d-411f-9df7-b9c6c36bb971"
      },
      "execution_count": 6,
      "outputs": [
        {
          "output_type": "stream",
          "name": "stdout",
          "text": [
            "root\n",
            " |-- id: string (nullable = true)\n",
            " |-- andar: long (nullable = true)\n",
            " |-- area_total: string (nullable = true)\n",
            " |-- area_util: string (nullable = true)\n",
            " |-- banheiros: long (nullable = true)\n",
            " |-- caracteristicas: array (nullable = true)\n",
            " |    |-- element: string (containsNull = true)\n",
            " |-- quartos: long (nullable = true)\n",
            " |-- suites: long (nullable = true)\n",
            " |-- tipo_anuncio: string (nullable = true)\n",
            " |-- tipo_unidade: string (nullable = true)\n",
            " |-- tipo_uso: string (nullable = true)\n",
            " |-- vaga: long (nullable = true)\n",
            " |-- bairro: string (nullable = true)\n",
            " |-- zona: string (nullable = true)\n",
            " |-- condominio: string (nullable = true)\n",
            " |-- iptu: string (nullable = true)\n",
            " |-- tipo: string (nullable = true)\n",
            " |-- valor: string (nullable = true)\n",
            "\n",
            "+--------------------+-----+----------+---------+---------+--------------------+-------+------+------------+------------+-----------+----+------------+------------+----------+----+-----+------+\n",
            "|                  id|andar|area_total|area_util|banheiros|     caracteristicas|quartos|suites|tipo_anuncio|tipo_unidade|   tipo_uso|vaga|      bairro|        zona|condominio|iptu| tipo| valor|\n",
            "+--------------------+-----+----------+---------+---------+--------------------+-------+------+------------+------------+-----------+----+------------+------------+----------+----+-----+------+\n",
            "|03a386b6-7ab8-4ef...|    0|        43|       43|        1|[Churrasqueira, A...|      2|  null|       Usado| Apartamento|Residencial|   1|    Realengo|  Zona Oeste|       285|null|Venda| 22999|\n",
            "|1fe78d41-b8e0-4d2...|    0|        44|       44|        1|                  []|      2|     0|       Usado| Apartamento|Residencial|   0|       Irajá|  Zona Norte|       170|   0|Venda|110000|\n",
            "|1fa1c1e5-e98c-433...|    4|      null|       55|        1|                  []|      2|     0|       Usado| Apartamento|Residencial|   1|      Cosmos|  Zona Oeste|      null|null|Venda|115000|\n",
            "|a6ab01ae-3d40-40e...|    2|      null|       55|        1|                  []|      2|     0|       Usado| Apartamento|Residencial|   0|Tomás Coelho|  Zona Norte|      null|null|Venda|115000|\n",
            "|1d8ff7a2-16bd-4e3...|    0|      null|       50|        1|                  []|      1|  null|       Usado| Apartamento|Residencial|   0|      Centro|Zona Central|      1300|2679|Venda|125000|\n",
            "+--------------------+-----+----------+---------+---------+--------------------+-------+------+------------+------------+-----------+----+------------+------------+----------+----+-----+------+\n",
            "only showing top 5 rows\n",
            "\n"
          ]
        }
      ]
    },
    {
      "cell_type": "code",
      "source": [
        "# Transforma as colunas com unidades diferenciadas em suas unidades corretas\n",
        "dataset_imoveis = dataset_imoveis\\\n",
        "  .withColumn('andar',dataset_imoveis['andar'].cast(IntegerType()))\\\n",
        "  .withColumn('banheiros',dataset_imoveis['banheiros'].cast(IntegerType()))\\\n",
        "  .withColumn('quartos',dataset_imoveis['quartos'].cast(IntegerType()))\\\n",
        "  .withColumn('suites',dataset_imoveis['suites'].cast(IntegerType()))\\\n",
        "  .withColumn('vaga',dataset_imoveis['vaga'].cast(IntegerType()))\\\n",
        "  .withColumn('area_total',dataset_imoveis['area_total'].cast(DoubleType()))\\\n",
        "  .withColumn('area_util',dataset_imoveis['area_util'].cast(DoubleType()))\\\n",
        "  .withColumn('condominio',dataset_imoveis['condominio'].cast(DoubleType()))\\\n",
        "  .withColumn('iptu',dataset_imoveis['iptu'].cast(DoubleType()))\\\n",
        "  .withColumn('valor',dataset_imoveis['valor'].cast(DoubleType()))"
      ],
      "metadata": {
        "id": "Ip_unHDWYjWH"
      },
      "execution_count": 7,
      "outputs": []
    },
    {
      "cell_type": "code",
      "source": [
        "#Coluna provisória, leitura de dados\n",
        "\n",
        "dataset_imoveis.printSchema()\n",
        "dataset_imoveis.show(5)"
      ],
      "metadata": {
        "colab": {
          "base_uri": "https://localhost:8080/"
        },
        "id": "_n0HTU-AZ2eq",
        "outputId": "abe6daf2-9cc0-4816-8bbd-8bf502f01c9a"
      },
      "execution_count": 8,
      "outputs": [
        {
          "output_type": "stream",
          "name": "stdout",
          "text": [
            "root\n",
            " |-- id: string (nullable = true)\n",
            " |-- andar: integer (nullable = true)\n",
            " |-- area_total: double (nullable = true)\n",
            " |-- area_util: double (nullable = true)\n",
            " |-- banheiros: integer (nullable = true)\n",
            " |-- caracteristicas: array (nullable = true)\n",
            " |    |-- element: string (containsNull = true)\n",
            " |-- quartos: integer (nullable = true)\n",
            " |-- suites: integer (nullable = true)\n",
            " |-- tipo_anuncio: string (nullable = true)\n",
            " |-- tipo_unidade: string (nullable = true)\n",
            " |-- tipo_uso: string (nullable = true)\n",
            " |-- vaga: integer (nullable = true)\n",
            " |-- bairro: string (nullable = true)\n",
            " |-- zona: string (nullable = true)\n",
            " |-- condominio: double (nullable = true)\n",
            " |-- iptu: double (nullable = true)\n",
            " |-- tipo: string (nullable = true)\n",
            " |-- valor: double (nullable = true)\n",
            "\n",
            "+--------------------+-----+----------+---------+---------+--------------------+-------+------+------------+------------+-----------+----+------------+------------+----------+------+-----+--------+\n",
            "|                  id|andar|area_total|area_util|banheiros|     caracteristicas|quartos|suites|tipo_anuncio|tipo_unidade|   tipo_uso|vaga|      bairro|        zona|condominio|  iptu| tipo|   valor|\n",
            "+--------------------+-----+----------+---------+---------+--------------------+-------+------+------------+------------+-----------+----+------------+------------+----------+------+-----+--------+\n",
            "|03a386b6-7ab8-4ef...|    0|      43.0|     43.0|        1|[Churrasqueira, A...|      2|  null|       Usado| Apartamento|Residencial|   1|    Realengo|  Zona Oeste|     285.0|  null|Venda| 22999.0|\n",
            "|1fe78d41-b8e0-4d2...|    0|      44.0|     44.0|        1|                  []|      2|     0|       Usado| Apartamento|Residencial|   0|       Irajá|  Zona Norte|     170.0|   0.0|Venda|110000.0|\n",
            "|1fa1c1e5-e98c-433...|    4|      null|     55.0|        1|                  []|      2|     0|       Usado| Apartamento|Residencial|   1|      Cosmos|  Zona Oeste|      null|  null|Venda|115000.0|\n",
            "|a6ab01ae-3d40-40e...|    2|      null|     55.0|        1|                  []|      2|     0|       Usado| Apartamento|Residencial|   0|Tomás Coelho|  Zona Norte|      null|  null|Venda|115000.0|\n",
            "|1d8ff7a2-16bd-4e3...|    0|      null|     50.0|        1|                  []|      1|  null|       Usado| Apartamento|Residencial|   0|      Centro|Zona Central|    1300.0|2679.0|Venda|125000.0|\n",
            "+--------------------+-----+----------+---------+---------+--------------------+-------+------+------------+------------+-----------+----+------------+------------+----------+------+-----+--------+\n",
            "only showing top 5 rows\n",
            "\n"
          ]
        }
      ]
    },
    {
      "cell_type": "code",
      "source": [
        "#Início do tratamento de dados faltantes, importando a biblioteca functions para isso\n",
        "from pyspark.sql import functions as f\n",
        "from pyspark.sql.functions import explode"
      ],
      "metadata": {
        "id": "bgjwSNT1aCHC"
      },
      "execution_count": 9,
      "outputs": []
    },
    {
      "cell_type": "code",
      "source": [],
      "metadata": {
        "id": "IOX7y-icckHE"
      },
      "execution_count": 9,
      "outputs": []
    },
    {
      "cell_type": "code",
      "source": [
        "# checa valores nulos no dataset, excluindo a coluna caracteristicas\n",
        "dataset_imoveis2 = dataset_imoveis.drop('caracteristicas')\n",
        "\n",
        "# Conta quantos valores nulos há em cada coluna\n",
        "dataset_imoveis2\\\n",
        "    .select([f.count(f.when(f.isnan(c) | f.isnull(c), True)).alias(c) for c in dataset_imoveis2.columns])\\\n",
        "    .show()"
      ],
      "metadata": {
        "colab": {
          "base_uri": "https://localhost:8080/"
        },
        "id": "K5jQileNanq8",
        "outputId": "798738cf-de7d-4b89-bb36-6340f39ab4b5"
      },
      "execution_count": 10,
      "outputs": [
        {
          "output_type": "stream",
          "name": "stdout",
          "text": [
            "+---+-----+----------+---------+---------+-------+------+------------+------------+--------+----+------+----+----------+----+----+-----+\n",
            "| id|andar|area_total|area_util|banheiros|quartos|suites|tipo_anuncio|tipo_unidade|tipo_uso|vaga|bairro|zona|condominio|iptu|tipo|valor|\n",
            "+---+-----+----------+---------+---------+-------+------+------------+------------+--------+----+------+----+----------+----+----+-----+\n",
            "|  0|    0|      9194|        0|        0|      0|  5554|           0|           0|       0|3017|     0|   0|      2371|7199|   0|    0|\n",
            "+---+-----+----------+---------+---------+-------+------+------------+------------+--------+----+------+----+----------+----+----+-----+\n",
            "\n"
          ]
        }
      ]
    },
    {
      "cell_type": "code",
      "source": [
        "# Nessa primeira linha, quando o tamanho do array for igual a zero (array vazio), ele irá susbtituir por valor nulo\n",
        "dataset_imoveis = dataset_imoveis.withColumn('caracteristicas', f.when((f.size(f.col('caracteristicas')) == 0), f.lit(None)).otherwise(f.col('caracteristicas')))\n"
      ],
      "metadata": {
        "id": "7YOHI83KbG_p"
      },
      "execution_count": 11,
      "outputs": []
    },
    {
      "cell_type": "code",
      "source": [
        "# Aqui, eu concateno as caracteristicas todas numa única String, baseado no raciocínio anterior, quando a coluna for diferente de null, concatene seus elementos\n",
        "dataset_imoveis = dataset_imoveis.withColumn('caracteristicas', f.when((f.isnull(f.col('caracteristicas')) == False),f.concat_ws(',',f.col('caracteristicas'))))\n"
      ],
      "metadata": {
        "id": "RCaerAfzz4CX"
      },
      "execution_count": 12,
      "outputs": []
    },
    {
      "cell_type": "code",
      "source": [
        "# Substitui os valores nulos por 0\n",
        "dataset_imoveis = dataset_imoveis\\\n",
        "    .select('*')\\\n",
        "    .na\\\n",
        "    .fill(0)"
      ],
      "metadata": {
        "id": "ShPQ8-Sd0Aiw"
      },
      "execution_count": 13,
      "outputs": []
    },
    {
      "cell_type": "code",
      "source": [
        "#Coluna provisória, leitura de dados\n",
        "\n",
        "dataset_imoveis.printSchema()\n",
        "dataset_imoveis.show(5)"
      ],
      "metadata": {
        "colab": {
          "base_uri": "https://localhost:8080/"
        },
        "id": "LRftAWos32Ir",
        "outputId": "588df4b8-21fa-4258-8a1e-90a08c7bf62b"
      },
      "execution_count": 14,
      "outputs": [
        {
          "output_type": "stream",
          "name": "stdout",
          "text": [
            "root\n",
            " |-- id: string (nullable = true)\n",
            " |-- andar: integer (nullable = true)\n",
            " |-- area_total: double (nullable = false)\n",
            " |-- area_util: double (nullable = false)\n",
            " |-- banheiros: integer (nullable = true)\n",
            " |-- caracteristicas: string (nullable = true)\n",
            " |-- quartos: integer (nullable = true)\n",
            " |-- suites: integer (nullable = true)\n",
            " |-- tipo_anuncio: string (nullable = true)\n",
            " |-- tipo_unidade: string (nullable = true)\n",
            " |-- tipo_uso: string (nullable = true)\n",
            " |-- vaga: integer (nullable = true)\n",
            " |-- bairro: string (nullable = true)\n",
            " |-- zona: string (nullable = true)\n",
            " |-- condominio: double (nullable = false)\n",
            " |-- iptu: double (nullable = false)\n",
            " |-- tipo: string (nullable = true)\n",
            " |-- valor: double (nullable = false)\n",
            "\n",
            "+--------------------+-----+----------+---------+---------+--------------------+-------+------+------------+------------+-----------+----+------------+------------+----------+------+-----+--------+\n",
            "|                  id|andar|area_total|area_util|banheiros|     caracteristicas|quartos|suites|tipo_anuncio|tipo_unidade|   tipo_uso|vaga|      bairro|        zona|condominio|  iptu| tipo|   valor|\n",
            "+--------------------+-----+----------+---------+---------+--------------------+-------+------+------------+------------+-----------+----+------------+------------+----------+------+-----+--------+\n",
            "|03a386b6-7ab8-4ef...|    0|      43.0|     43.0|        1|Churrasqueira,Aca...|      2|     0|       Usado| Apartamento|Residencial|   1|    Realengo|  Zona Oeste|     285.0|   0.0|Venda| 22999.0|\n",
            "|1fe78d41-b8e0-4d2...|    0|      44.0|     44.0|        1|                null|      2|     0|       Usado| Apartamento|Residencial|   0|       Irajá|  Zona Norte|     170.0|   0.0|Venda|110000.0|\n",
            "|1fa1c1e5-e98c-433...|    4|       0.0|     55.0|        1|                null|      2|     0|       Usado| Apartamento|Residencial|   1|      Cosmos|  Zona Oeste|       0.0|   0.0|Venda|115000.0|\n",
            "|a6ab01ae-3d40-40e...|    2|       0.0|     55.0|        1|                null|      2|     0|       Usado| Apartamento|Residencial|   0|Tomás Coelho|  Zona Norte|       0.0|   0.0|Venda|115000.0|\n",
            "|1d8ff7a2-16bd-4e3...|    0|       0.0|     50.0|        1|                null|      1|     0|       Usado| Apartamento|Residencial|   0|      Centro|Zona Central|    1300.0|2679.0|Venda|125000.0|\n",
            "+--------------------+-----+----------+---------+---------+--------------------+-------+------+------------+------------+-----------+----+------------+------------+----------+------+-----+--------+\n",
            "only showing top 5 rows\n",
            "\n"
          ]
        }
      ]
    },
    {
      "cell_type": "code",
      "source": [
        "# Aqui, para tirar o valor null de caracteristicas, o substituo pela string 'vazio'\n",
        "dataset_imoveis = dataset_imoveis.withColumn('caracteristicas', f.when((f.isnull(f.col('caracteristicas')) == True),f.lit('vazio')).otherwise(f.col('caracteristicas')))                      \n",
        "dataset_imoveis.show(5)"
      ],
      "metadata": {
        "colab": {
          "base_uri": "https://localhost:8080/"
        },
        "id": "polA_b4d35Q6",
        "outputId": "a05bf24d-db08-496e-f4a1-faa08d22487b"
      },
      "execution_count": 15,
      "outputs": [
        {
          "output_type": "stream",
          "name": "stdout",
          "text": [
            "+--------------------+-----+----------+---------+---------+--------------------+-------+------+------------+------------+-----------+----+------------+------------+----------+------+-----+--------+\n",
            "|                  id|andar|area_total|area_util|banheiros|     caracteristicas|quartos|suites|tipo_anuncio|tipo_unidade|   tipo_uso|vaga|      bairro|        zona|condominio|  iptu| tipo|   valor|\n",
            "+--------------------+-----+----------+---------+---------+--------------------+-------+------+------------+------------+-----------+----+------------+------------+----------+------+-----+--------+\n",
            "|03a386b6-7ab8-4ef...|    0|      43.0|     43.0|        1|Churrasqueira,Aca...|      2|     0|       Usado| Apartamento|Residencial|   1|    Realengo|  Zona Oeste|     285.0|   0.0|Venda| 22999.0|\n",
            "|1fe78d41-b8e0-4d2...|    0|      44.0|     44.0|        1|               vazio|      2|     0|       Usado| Apartamento|Residencial|   0|       Irajá|  Zona Norte|     170.0|   0.0|Venda|110000.0|\n",
            "|1fa1c1e5-e98c-433...|    4|       0.0|     55.0|        1|               vazio|      2|     0|       Usado| Apartamento|Residencial|   1|      Cosmos|  Zona Oeste|       0.0|   0.0|Venda|115000.0|\n",
            "|a6ab01ae-3d40-40e...|    2|       0.0|     55.0|        1|               vazio|      2|     0|       Usado| Apartamento|Residencial|   0|Tomás Coelho|  Zona Norte|       0.0|   0.0|Venda|115000.0|\n",
            "|1d8ff7a2-16bd-4e3...|    0|       0.0|     50.0|        1|               vazio|      1|     0|       Usado| Apartamento|Residencial|   0|      Centro|Zona Central|    1300.0|2679.0|Venda|125000.0|\n",
            "+--------------------+-----+----------+---------+---------+--------------------+-------+------+------------+------------+-----------+----+------------+------------+----------+------+-----+--------+\n",
            "only showing top 5 rows\n",
            "\n"
          ]
        }
      ]
    },
    {
      "cell_type": "code",
      "source": [
        "# checa valores nulos no dataset\n",
        "dataset_imoveis\\\n",
        "    .select([f.count(f.when(f.isnan(c) | f.isnull(c), True)).alias(c) for c in dataset_imoveis.columns])\\\n",
        "    .show()"
      ],
      "metadata": {
        "colab": {
          "base_uri": "https://localhost:8080/"
        },
        "id": "DVlGMqHi6JUK",
        "outputId": "4932ec9a-bea5-4dff-9524-0d01d591e92c"
      },
      "execution_count": 16,
      "outputs": [
        {
          "output_type": "stream",
          "name": "stdout",
          "text": [
            "+---+-----+----------+---------+---------+---------------+-------+------+------------+------------+--------+----+------+----+----------+----+----+-----+\n",
            "| id|andar|area_total|area_util|banheiros|caracteristicas|quartos|suites|tipo_anuncio|tipo_unidade|tipo_uso|vaga|bairro|zona|condominio|iptu|tipo|valor|\n",
            "+---+-----+----------+---------+---------+---------------+-------+------+------------+------------+--------+----+------+----+----------+----+----+-----+\n",
            "|  0|    0|         0|        0|        0|              0|      0|     0|           0|           0|       0|   0|     0|   0|         0|   0|   0|    0|\n",
            "+---+-----+----------+---------+---------+---------------+-------+------+------------+------------+--------+----+------+----+----------+----+----+-----+\n",
            "\n"
          ]
        }
      ]
    },
    {
      "cell_type": "code",
      "source": [
        "# Criando um Array único com todas as características\n",
        "dataset_imoveis = dataset_imoveis.withColumn('caracteristicas_array',f.split(f.col('caracteristicas'),',').alias('caracteristicas_array'))\n",
        "resultado = dataset_imoveis.select(dataset_imoveis['caracteristicas_array'],f.explode(dataset_imoveis.caracteristicas_array).alias('teste'))\n",
        "resultado = resultado.select(resultado.teste)\n",
        "lista_caracteristicas = resultado.distinct().rdd.flatMap(lambda x: x).collect()\n",
        "lista_caracteristicas"
      ],
      "metadata": {
        "colab": {
          "base_uri": "https://localhost:8080/"
        },
        "id": "AayWj7_n6psy",
        "outputId": "19cc97d2-1b43-4312-da4c-24371f2feebe"
      },
      "execution_count": 17,
      "outputs": [
        {
          "output_type": "execute_result",
          "data": {
            "text/plain": [
              "['Condomínio fechado',\n",
              " 'Playground',\n",
              " 'Portão eletrônico',\n",
              " 'Piscina',\n",
              " 'Animais permitidos',\n",
              " 'Portaria 24h',\n",
              " 'vazio',\n",
              " 'Elevador',\n",
              " 'Academia',\n",
              " 'Salão de festas',\n",
              " 'Churrasqueira']"
            ]
          },
          "metadata": {},
          "execution_count": 17
        }
      ]
    },
    {
      "cell_type": "code",
      "source": [
        "# Cria as colunas Dummy baseadas nas características\n",
        "caracteristicas_colunas = [f.when(f.col('caracteristicas').contains(caracteristica), 1).otherwise(0).alias(caracteristica) for caracteristica in lista_caracteristicas]\n",
        "dataset_imoveis_dummy1 = dataset_imoveis.select('*',*caracteristicas_colunas)\n",
        "dataset_imoveis_dummy1 = dataset_imoveis_dummy1.drop('caracteristicas','caracteristicas_array')\n",
        "dataset_imoveis_dummy1.show(5)"
      ],
      "metadata": {
        "colab": {
          "base_uri": "https://localhost:8080/"
        },
        "id": "OsotJzup67t2",
        "outputId": "94fc3eb1-2890-464c-f900-b9df6e5506f9"
      },
      "execution_count": 18,
      "outputs": [
        {
          "output_type": "stream",
          "name": "stdout",
          "text": [
            "+--------------------+-----+----------+---------+---------+-------+------+------------+------------+-----------+----+------------+------------+----------+------+-----+--------+------------------+----------+-----------------+-------+------------------+------------+-----+--------+--------+---------------+-------------+\n",
            "|                  id|andar|area_total|area_util|banheiros|quartos|suites|tipo_anuncio|tipo_unidade|   tipo_uso|vaga|      bairro|        zona|condominio|  iptu| tipo|   valor|Condomínio fechado|Playground|Portão eletrônico|Piscina|Animais permitidos|Portaria 24h|vazio|Elevador|Academia|Salão de festas|Churrasqueira|\n",
            "+--------------------+-----+----------+---------+---------+-------+------+------------+------------+-----------+----+------------+------------+----------+------+-----+--------+------------------+----------+-----------------+-------+------------------+------------+-----+--------+--------+---------------+-------------+\n",
            "|03a386b6-7ab8-4ef...|    0|      43.0|     43.0|        1|      2|     0|       Usado| Apartamento|Residencial|   1|    Realengo|  Zona Oeste|     285.0|   0.0|Venda| 22999.0|                 1|         1|                1|      0|                 1|           1|    0|       0|       1|              1|            1|\n",
            "|1fe78d41-b8e0-4d2...|    0|      44.0|     44.0|        1|      2|     0|       Usado| Apartamento|Residencial|   0|       Irajá|  Zona Norte|     170.0|   0.0|Venda|110000.0|                 0|         0|                0|      0|                 0|           0|    1|       0|       0|              0|            0|\n",
            "|1fa1c1e5-e98c-433...|    4|       0.0|     55.0|        1|      2|     0|       Usado| Apartamento|Residencial|   1|      Cosmos|  Zona Oeste|       0.0|   0.0|Venda|115000.0|                 0|         0|                0|      0|                 0|           0|    1|       0|       0|              0|            0|\n",
            "|a6ab01ae-3d40-40e...|    2|       0.0|     55.0|        1|      2|     0|       Usado| Apartamento|Residencial|   0|Tomás Coelho|  Zona Norte|       0.0|   0.0|Venda|115000.0|                 0|         0|                0|      0|                 0|           0|    1|       0|       0|              0|            0|\n",
            "|1d8ff7a2-16bd-4e3...|    0|       0.0|     50.0|        1|      1|     0|       Usado| Apartamento|Residencial|   0|      Centro|Zona Central|    1300.0|2679.0|Venda|125000.0|                 0|         0|                0|      0|                 0|           0|    1|       0|       0|              0|            0|\n",
            "+--------------------+-----+----------+---------+---------+-------+------+------------+------------+-----------+----+------------+------------+----------+------+-----+--------+------------------+----------+-----------------+-------+------------------+------------+-----+--------+--------+---------------+-------------+\n",
            "only showing top 5 rows\n",
            "\n"
          ]
        }
      ]
    },
    {
      "cell_type": "code",
      "source": [
        "# Criando um Array único com todas as zonas\n",
        "lista_zonas = dataset_imoveis_dummy1.select(dataset_imoveis_dummy1.zona).distinct().rdd.flatMap(lambda x: x).collect()\n",
        "lista_zonas.remove('')"
      ],
      "metadata": {
        "id": "PWEDmtTrCZ8F"
      },
      "execution_count": 19,
      "outputs": []
    },
    {
      "cell_type": "code",
      "source": [
        "# Cria as colunas Dummy baseadas nas zonas\n",
        "zonas_colunas = [f.when(f.col('zona').contains(zona), 1).otherwise(0).alias(zona) for zona in lista_zonas]\n",
        "dataset_imoveis_dummy2 = dataset_imoveis_dummy1.select('*',*zonas_colunas)\n",
        "dataset_imoveis_dummy2 = dataset_imoveis_dummy2.drop('zona','area_total')\n",
        "dataset_imoveis_dummy2.show(5)"
      ],
      "metadata": {
        "colab": {
          "base_uri": "https://localhost:8080/"
        },
        "id": "n2yAJxZyFx9W",
        "outputId": "869466f4-07df-40de-fd1d-434e272ab0b1"
      },
      "execution_count": 20,
      "outputs": [
        {
          "output_type": "stream",
          "name": "stdout",
          "text": [
            "+--------------------+-----+---------+---------+-------+------+------------+------------+-----------+----+------------+----------+------+-----+--------+------------------+----------+-----------------+-------+------------------+------------+-----+--------+--------+---------------+-------------+----------+----------+------------+--------+\n",
            "|                  id|andar|area_util|banheiros|quartos|suites|tipo_anuncio|tipo_unidade|   tipo_uso|vaga|      bairro|condominio|  iptu| tipo|   valor|Condomínio fechado|Playground|Portão eletrônico|Piscina|Animais permitidos|Portaria 24h|vazio|Elevador|Academia|Salão de festas|Churrasqueira|Zona Norte|Zona Oeste|Zona Central|Zona Sul|\n",
            "+--------------------+-----+---------+---------+-------+------+------------+------------+-----------+----+------------+----------+------+-----+--------+------------------+----------+-----------------+-------+------------------+------------+-----+--------+--------+---------------+-------------+----------+----------+------------+--------+\n",
            "|03a386b6-7ab8-4ef...|    0|     43.0|        1|      2|     0|       Usado| Apartamento|Residencial|   1|    Realengo|     285.0|   0.0|Venda| 22999.0|                 1|         1|                1|      0|                 1|           1|    0|       0|       1|              1|            1|         0|         1|           0|       0|\n",
            "|1fe78d41-b8e0-4d2...|    0|     44.0|        1|      2|     0|       Usado| Apartamento|Residencial|   0|       Irajá|     170.0|   0.0|Venda|110000.0|                 0|         0|                0|      0|                 0|           0|    1|       0|       0|              0|            0|         1|         0|           0|       0|\n",
            "|1fa1c1e5-e98c-433...|    4|     55.0|        1|      2|     0|       Usado| Apartamento|Residencial|   1|      Cosmos|       0.0|   0.0|Venda|115000.0|                 0|         0|                0|      0|                 0|           0|    1|       0|       0|              0|            0|         0|         1|           0|       0|\n",
            "|a6ab01ae-3d40-40e...|    2|     55.0|        1|      2|     0|       Usado| Apartamento|Residencial|   0|Tomás Coelho|       0.0|   0.0|Venda|115000.0|                 0|         0|                0|      0|                 0|           0|    1|       0|       0|              0|            0|         1|         0|           0|       0|\n",
            "|1d8ff7a2-16bd-4e3...|    0|     50.0|        1|      1|     0|       Usado| Apartamento|Residencial|   0|      Centro|    1300.0|2679.0|Venda|125000.0|                 0|         0|                0|      0|                 0|           0|    1|       0|       0|              0|            0|         0|         0|           1|       0|\n",
            "+--------------------+-----+---------+---------+-------+------+------------+------------+-----------+----+------------+----------+------+-----+--------+------------------+----------+-----------------+-------+------------------+------------+-----+--------+--------+---------------+-------------+----------+----------+------------+--------+\n",
            "only showing top 5 rows\n",
            "\n"
          ]
        }
      ]
    },
    {
      "cell_type": "code",
      "source": [
        "# Cria o output num arquivo Parquet\n",
        "dataset_imoveis_dummy2.write.parquet(\n",
        "    path = '/content/drive/MyDrive/Challenge Data Science/Semana 2/output_parquet_dataframe',\n",
        "    mode = 'overwrite',\n",
        ")"
      ],
      "metadata": {
        "id": "fDq36iA4KXPK"
      },
      "execution_count": 21,
      "outputs": []
    },
    {
      "cell_type": "code",
      "source": [
        "# Iniciando a etapa de Machine Learning\n",
        "\n",
        "from pyspark.ml.stat import Correlation\n",
        "import pandas as pd\n",
        "from pyspark.ml.feature import VectorAssembler"
      ],
      "metadata": {
        "id": "DFPCsNGoLVyf"
      },
      "execution_count": 22,
      "outputs": []
    },
    {
      "cell_type": "code",
      "source": [
        "# Renomeando as colunas para a vetorização\n",
        "\n",
        "dataset_imoveis_dummy2 = dataset_imoveis_dummy2.withColumnRenamed('valor','label')\n"
      ],
      "metadata": {
        "id": "2KFnY0lVLZ1M"
      },
      "execution_count": 23,
      "outputs": []
    },
    {
      "cell_type": "code",
      "source": [
        "# Criando a lista de variáveis de input X\n",
        "X = ['andar','area_util','banheiros','quartos','suites','vaga','condominio','iptu'] + lista_caracteristicas + lista_zonas\n",
        "X"
      ],
      "metadata": {
        "colab": {
          "base_uri": "https://localhost:8080/"
        },
        "id": "fvV0aqLMN0ho",
        "outputId": "3cc79d2d-a1e7-4031-9f44-4a06b544c11e"
      },
      "execution_count": 24,
      "outputs": [
        {
          "output_type": "execute_result",
          "data": {
            "text/plain": [
              "['andar',\n",
              " 'area_util',\n",
              " 'banheiros',\n",
              " 'quartos',\n",
              " 'suites',\n",
              " 'vaga',\n",
              " 'condominio',\n",
              " 'iptu',\n",
              " 'Condomínio fechado',\n",
              " 'Playground',\n",
              " 'Portão eletrônico',\n",
              " 'Piscina',\n",
              " 'Animais permitidos',\n",
              " 'Portaria 24h',\n",
              " 'vazio',\n",
              " 'Elevador',\n",
              " 'Academia',\n",
              " 'Salão de festas',\n",
              " 'Churrasqueira',\n",
              " 'Zona Norte',\n",
              " 'Zona Oeste',\n",
              " 'Zona Central',\n",
              " 'Zona Sul']"
            ]
          },
          "metadata": {},
          "execution_count": 24
        }
      ]
    },
    {
      "cell_type": "code",
      "source": [
        "# Criando o Assemble de vetorização\n",
        "\n",
        "assembler = VectorAssembler(inputCols = X, outputCol = 'features')"
      ],
      "metadata": {
        "id": "IVfuC9a0OHGC"
      },
      "execution_count": 25,
      "outputs": []
    },
    {
      "cell_type": "code",
      "source": [
        "# Vetorizando o Dataframe\n",
        "\n",
        "dataset_imoveis_vetorizado = assembler.transform(dataset_imoveis_dummy2).select('features', 'label')\n",
        "dataset_imoveis_vetorizado.show(5)"
      ],
      "metadata": {
        "colab": {
          "base_uri": "https://localhost:8080/"
        },
        "id": "qj-VAeQdRwP-",
        "outputId": "3ab42805-436f-41a3-98cd-5aae1c672f01"
      },
      "execution_count": 27,
      "outputs": [
        {
          "output_type": "stream",
          "name": "stdout",
          "text": [
            "+--------------------+--------+\n",
            "|            features|   label|\n",
            "+--------------------+--------+\n",
            "|(23,[1,2,3,5,6,8,...| 22999.0|\n",
            "|(23,[1,2,3,6,14,1...|110000.0|\n",
            "|(23,[0,1,2,3,5,14...|115000.0|\n",
            "|(23,[0,1,2,3,14,1...|115000.0|\n",
            "|(23,[1,2,3,6,7,14...|125000.0|\n",
            "+--------------------+--------+\n",
            "only showing top 5 rows\n",
            "\n"
          ]
        }
      ]
    },
    {
      "cell_type": "code",
      "source": [
        "# Importando as bibliotecas de matplotlib e seaborn\n",
        "import matplotlib.pyplot as plt\n",
        "import seaborn as sns"
      ],
      "metadata": {
        "id": "TEvBRbVusI7c"
      },
      "execution_count": 54,
      "outputs": []
    },
    {
      "cell_type": "code",
      "source": [
        "# Importando a biblioteca de regressão linear\n",
        "\n",
        "from pyspark.ml.regression import LinearRegression"
      ],
      "metadata": {
        "id": "DvQyTc5StDFZ"
      },
      "execution_count": 37,
      "outputs": []
    },
    {
      "cell_type": "code",
      "source": [
        "# Criando a regressão Linear, separando o dataframe em dois grupos\n",
        "\n",
        "grupo_treino, grupo_teste = dataset_imoveis_vetorizado.randomSplit([0.7,0.3], seed = 101)\n",
        "print(\"O grupo de treino possui \", grupo_treino.count(), \"dados, já o grupo de teste possui \", grupo_teste.count(), \" dados.\")"
      ],
      "metadata": {
        "colab": {
          "base_uri": "https://localhost:8080/"
        },
        "id": "kSjXjwk8tYsQ",
        "outputId": "d7e2da1d-2ec8-4e8b-c54f-668516688656"
      },
      "execution_count": 42,
      "outputs": [
        {
          "output_type": "stream",
          "name": "stdout",
          "text": [
            "O grupo de treino possui  46510 dados, já o grupo de teste possui  20052  dados.\n"
          ]
        }
      ]
    },
    {
      "cell_type": "code",
      "source": [
        "# Instanciando a regressão linear\n",
        "\n",
        "lr = LinearRegression()\n",
        "modelo_lr = lr.fit(grupo_treino)\n",
        "previsoes_lr_treino = modelo_lr.transform(grupo_treino)\n",
        "previsoes_lr_treino.show(5)"
      ],
      "metadata": {
        "colab": {
          "base_uri": "https://localhost:8080/"
        },
        "id": "y_Ja0W0vuRZa",
        "outputId": "3eb5ace9-bb01-4d25-fa0b-5db28bff3d1f"
      },
      "execution_count": 44,
      "outputs": [
        {
          "output_type": "stream",
          "name": "stdout",
          "text": [
            "+--------------------+---------+------------------+\n",
            "|            features|    label|        prediction|\n",
            "+--------------------+---------+------------------+\n",
            "|(23,[0,1,2,3,4,5,...|1415000.0|1689007.0916487856|\n",
            "|(23,[0,1,2,3,4,5,...| 230000.0| 274036.8850726607|\n",
            "|(23,[0,1,2,3,4,5,...| 459000.0| 803041.4540375648|\n",
            "|(23,[0,1,2,3,4,5,...| 520000.0| 803041.4540375648|\n",
            "|(23,[0,1,2,3,4,5,...| 349999.0| 597621.4679384611|\n",
            "+--------------------+---------+------------------+\n",
            "only showing top 5 rows\n",
            "\n"
          ]
        }
      ]
    },
    {
      "cell_type": "code",
      "source": [
        "# Cria o resumo da qualidade da regressão linear\n",
        "# O R2 se refere a quanto o modelo está ajustado aos dados, isto é, quanto ele reflete a realidade dos dados\n",
        "# o RMSE que é o erro médio elevado ao quadrado e depois calculamos a raiz de tudo para verificarmos uma métrica que avalia os erros do modelo e não o modelo em si\n",
        "\n",
        "resumo_lr = modelo_lr.summary\n",
        "print(\"A regressão linear representa em \", round(resumo_lr.r2*100,2),\"% os resultados da base de treino, com um erro RMSE de R$\", round(resumo_lr.rootMeanSquaredError,2))\n"
      ],
      "metadata": {
        "colab": {
          "base_uri": "https://localhost:8080/"
        },
        "id": "8MAp3FzdvZnf",
        "outputId": "a4c870e5-f5da-48d4-befa-26ff43f5754c"
      },
      "execution_count": 50,
      "outputs": [
        {
          "output_type": "stream",
          "name": "stdout",
          "text": [
            "A regressão linear representa em  68.89 % os resultados da base de treino, com um erro RMSE de R$ 825112.99\n"
          ]
        }
      ]
    },
    {
      "cell_type": "code",
      "source": [
        "# Avalia o modelo de Linear Regression aplicado aos dados de teste\n",
        "\n",
        "resumo_teste_lr = modelo_lr.evaluate(grupo_teste)\n",
        "print(\"A regressão linear representa em \", round(resumo_teste_lr.r2*100,2),\"% os resultados da base de testes, com um erro RMSE de R$\", round(resumo_teste_lr.rootMeanSquaredError,2))"
      ],
      "metadata": {
        "colab": {
          "base_uri": "https://localhost:8080/"
        },
        "id": "4qKoeSHRv0LT",
        "outputId": "a182a14c-e33b-427c-b1a0-eaf93832f8c1"
      },
      "execution_count": 51,
      "outputs": [
        {
          "output_type": "stream",
          "name": "stdout",
          "text": [
            "A regressão linear representa em  60.03 % os resultados da base de testes, com um erro RMSE de R$ 919150.43\n"
          ]
        }
      ]
    },
    {
      "cell_type": "code",
      "source": [
        "## DESAFIO EXTRA!!\n",
        "# Análise do gráfico de autocorrelação\n",
        "correlacao = Correlation.corr(dataset_imoveis_vetorizado,'features').collect()[0][0]\n",
        "dataframe_correlacao = pd.DataFrame(correlacao.toArray(), columns=X, index=X)\n",
        "\n",
        "print(\"Analisar a árvore de autocorrelação rende alguns dados super interessantes de interpretar! Escrevo aqui em texto, afinal, quem estiver lendo pode analisar essas curiosidades também.\\n\")\n",
        "print(\"Por exemplo, a correlação mais alta de imóveis com piscina é com imóveis que possuem churrasqueira (0.8) e realmente, se eu tivesse uma piscina, com certeza também teria uma churrasqueira!\\n\")\n",
        "print(\"Enquanto isso, area_util tem alta correlação com quantidade de quartos, banheiros e suítes e vagas, mostrando, mais uma vez, a coerência dos dados.\\n\")\n",
        "plt.figure(figsize=(12,10))\n",
        "paleta = sns.color_palette(\"light:blue\", as_cmap=True)\n",
        "sns.heatmap(dataframe_correlacao.round(1), annot=True, cmap=paleta)"
      ],
      "metadata": {
        "colab": {
          "base_uri": "https://localhost:8080/",
          "height": 810
        },
        "id": "Etumk6veyDMV",
        "outputId": "327820e5-afe8-4482-91cc-c6cca42da2e5"
      },
      "execution_count": 57,
      "outputs": [
        {
          "output_type": "stream",
          "name": "stdout",
          "text": [
            "Analisar a árvore de autocorrelação rende alguns dados super interessantes de interpretar! Escrevo aqui em texto, afinal, quem estiver lendo pode analisar essas curiosidades também.\n",
            "\n",
            "Por exemplo, a correlação mais alta de imóveis com piscina é com imóveis que possuem churrasqueira (0.8) e realmente, se eu tivesse uma piscina, com certeza também teria uma churrasqueira!\n",
            "\n",
            "Enquanto isso, area_util tem alta correlação com quantidade de quartos, banheiros e suítes e vagas, mostrando, mais uma vez, a coerência dos dados.\n",
            "\n"
          ]
        },
        {
          "output_type": "execute_result",
          "data": {
            "text/plain": [
              "<matplotlib.axes._subplots.AxesSubplot at 0x7f43f75a3070>"
            ]
          },
          "metadata": {},
          "execution_count": 57
        },
        {
          "output_type": "display_data",
          "data": {
            "text/plain": [
              "<Figure size 864x720 with 2 Axes>"
            ],
            "image/png": "[encoded data removed]"
          },
          "metadata": {
            "needs_background": "light"
          }
        }
      ]
    },
    {
      "cell_type": "code",
      "source": [
        "## DESAFIO EXTRA!!\n",
        "# Redução de dimensionalidade dos hiperparametros\n",
        "from pyspark.ml.feature import StandardScaler\n",
        "\n",
        "scaler = StandardScaler(inputCol='features', outputCol='scaled_features')\n",
        "scaler_model = scaler.fit(dataset_imoveis_vetorizado)\n",
        "dados_imoveis_scaled = scaler_model.transform(dataset_imoveis_vetorizado)"
      ],
      "metadata": {
        "id": "7S4c4P-q0dOr"
      },
      "execution_count": 58,
      "outputs": []
    },
    {
      "cell_type": "code",
      "source": [
        "# Aplicando o método PCA\n",
        "from pyspark.ml.feature import PCA\n",
        "\n",
        "#Possuímos 23 hiperparametros, inicialmente vou manter o número, para poder analisar com calma para quantos vale a pena reduzir\n",
        "pca = PCA(k=23, inputCol='scaled_features', outputCol='pca_features')\n",
        "model_pca = pca.fit(dados_imoveis_scaled)\n",
        "dados_imoveis_pca = model_pca.transform(dados_imoveis_scaled)"
      ],
      "metadata": {
        "id": "ZToNBnly41H9"
      },
      "execution_count": 59,
      "outputs": []
    },
    {
      "cell_type": "code",
      "source": [
        "# Análise dos hiperparametros\n",
        "lista_valores_pca = [sum(model_pca.explainedVariance[0:i+1]) for i in range(23)]\n",
        "lista_valores_pca"
      ],
      "metadata": {
        "colab": {
          "base_uri": "https://localhost:8080/"
        },
        "id": "hhOjJaX45fEj",
        "outputId": "4a6a85b1-bbda-491e-e24b-eefadceaae17"
      },
      "execution_count": 61,
      "outputs": [
        {
          "output_type": "execute_result",
          "data": {
            "text/plain": [
              "[0.28290318876142934,\n",
              " 0.43305780285695916,\n",
              " 0.520289859924062,\n",
              " 0.5748009457451903,\n",
              " 0.6270312617154071,\n",
              " 0.6736316737963346,\n",
              " 0.717430788894111,\n",
              " 0.758999938209562,\n",
              " 0.7936936424113791,\n",
              " 0.8267949210962381,\n",
              " 0.853985042178437,\n",
              " 0.8738389887177939,\n",
              " 0.8924106786165669,\n",
              " 0.9087960760383412,\n",
              " 0.923614938780153,\n",
              " 0.9373285702573324,\n",
              " 0.9503571832164902,\n",
              " 0.9616824586414028,\n",
              " 0.9726952943001502,\n",
              " 0.9826896337783936,\n",
              " 0.9915865969885213,\n",
              " 0.9999885446165532,\n",
              " 0.9999999999999997]"
            ]
          },
          "metadata": {},
          "execution_count": 61
        }
      ]
    },
    {
      "cell_type": "code",
      "source": [
        "# Resultado PCA\n",
        "print(\"Analisando os dados resultantes do PCA, imaginando um objetivo de ao menos 90% de explicação dos dados, precisaríamos de 13 hiperparametros, é uma redução de 10 hiperparametros, mas ainda é bastante.\\n\")\n",
        "print(\"Para uma precisão de 80%, seriam precisos 10 hiperparametros, enquanto que para 70% 7.\\n\")"
      ],
      "metadata": {
        "colab": {
          "base_uri": "https://localhost:8080/"
        },
        "id": "fMTDyXGH5tdG",
        "outputId": "bf55b5b3-c10e-4bc4-843b-d6432b703b51"
      },
      "execution_count": 62,
      "outputs": [
        {
          "output_type": "stream",
          "name": "stdout",
          "text": [
            "Analisando os dados resultantes do PCA, imaginando um objetivo de ao menos 90% de explicação dos dados, precisaríamos de 13 hiperparametros, é uma redução de 10 hiperparametros, mas ainda é bastante.\n",
            "\n",
            "Para uma precisão de 80%, seriam precisos 10 hiperparametros, enquanto que para 70% 7.\n",
            "\n"
          ]
        }
      ]
    },
    {
      "cell_type": "code",
      "source": [
        "# Refazendo o PCA com 10 hiperparametros, para atingir 80% de explicação dos dados\n",
        "pca = PCA(k=10, inputCol='scaled_features', outputCol='pca_features')\n",
        "model_pca = pca.fit(dados_imoveis_scaled)\n",
        "dados_imoveis_pca = model_pca.transform(dados_imoveis_scaled)"
      ],
      "metadata": {
        "id": "QeUXAgOY8dIJ"
      },
      "execution_count": 67,
      "outputs": []
    },
    {
      "cell_type": "code",
      "source": [
        "# Criando a regressão Linear dos dados PCA\n",
        "# Renomeando as colunas dos dados PCA para poder separar os grupos\n",
        "dados_imoveis_pca_renomeado = dados_imoveis_pca.drop('features','scaled_features')\n",
        "dados_imoveis_pca_renomeado = dados_imoveis_pca_renomeado.withColumnRenamed('pca_features','features')\n",
        "dados_imoveis_pca_renomeado = dados_imoveis_pca_renomeado.select('features','label')\n",
        "dados_imoveis_pca_renomeado.show(5)"
      ],
      "metadata": {
        "colab": {
          "base_uri": "https://localhost:8080/"
        },
        "id": "gXj_mfVV6o01",
        "outputId": "09064b3b-1b68-4ce7-9c03-cc3880d449ac"
      },
      "execution_count": 68,
      "outputs": [
        {
          "output_type": "stream",
          "name": "stdout",
          "text": [
            "+--------------------+--------+\n",
            "|            features|   label|\n",
            "+--------------------+--------+\n",
            "|[-5.2690837653545...| 22999.0|\n",
            "|[0.61568239138357...|110000.0|\n",
            "|[0.05346370593949...|115000.0|\n",
            "|[0.60555529969209...|115000.0|\n",
            "|[0.48456680564758...|125000.0|\n",
            "+--------------------+--------+\n",
            "only showing top 5 rows\n",
            "\n"
          ]
        }
      ]
    },
    {
      "cell_type": "code",
      "source": [
        "# Separando os grupos e testando a regressão linear\n",
        "grupo_treino_pca, grupo_teste_pca = dados_imoveis_pca_renomeado.randomSplit([0.7,0.3], seed = 101)\n",
        "print(\"O grupo de treino possui \", grupo_treino.count(), \"dados, já o grupo de teste possui \", grupo_teste.count(), \" dados.\")\n",
        "\n",
        "modelo_lr_pca = lr.fit(grupo_treino_pca)\n",
        "previsoes_lr_treino_pca = modelo_lr_pca.transform(grupo_treino_pca)\n",
        "\n",
        "resumo_lr_pca = modelo_lr_pca.summary\n",
        "print(\"A regressão linear representa em \", round(resumo_lr_pca.r2*100,2),\"% os resultados da base de treino, com um erro RMSE de R$\", round(resumo_lr_pca.rootMeanSquaredError,2))\n",
        "resumo_teste_lr_pca = modelo_lr_pca.evaluate(grupo_teste_pca)\n",
        "print(\"A regressão linear representa em \", round(resumo_teste_lr.r2*100,2),\"% os resultados da base de testes, com um erro RMSE de R$\", round(resumo_teste_lr.rootMeanSquaredError,2))"
      ],
      "metadata": {
        "colab": {
          "base_uri": "https://localhost:8080/"
        },
        "id": "GRkGtLH87OLL",
        "outputId": "1c4e060b-0c30-41cb-89cd-e9f87e8e76af"
      },
      "execution_count": 69,
      "outputs": [
        {
          "output_type": "stream",
          "name": "stdout",
          "text": [
            "O grupo de treino possui  46510 dados, já o grupo de teste possui  20052  dados.\n",
            "A regressão linear representa em  59.17 % os resultados da base de treino, com um erro RMSE de R$ 944426.59\n",
            "A regressão linear representa em  60.03 % os resultados da base de testes, com um erro RMSE de R$ 919150.43\n"
          ]
        }
      ]
    },
    {
      "cell_type": "code",
      "source": [
        "print(\"Os resultados não foram satisfatórios, pioraram em relação ao dados completos, façamos uma nova tentativa, com 13 hiperparametros\")"
      ],
      "metadata": {
        "colab": {
          "base_uri": "https://localhost:8080/"
        },
        "id": "LnLq3kYD7Rz6",
        "outputId": "9bb0ed3f-567d-4c87-83a3-4719f0420a0f"
      },
      "execution_count": 70,
      "outputs": [
        {
          "output_type": "stream",
          "name": "stdout",
          "text": [
            "Os resultados não foram satisfatórios, pioraram em relação ao dados completos, façamos uma nova tentativa, com 13 hiperparametros\n"
          ]
        }
      ]
    },
    {
      "cell_type": "code",
      "source": [
        "# Novo teste PCA com 13 hiperparametros\n",
        "pca = PCA(k=13, inputCol='scaled_features', outputCol='pca_features')\n",
        "model_pca = pca.fit(dados_imoveis_scaled)\n",
        "dados_imoveis_pca = model_pca.transform(dados_imoveis_scaled)\n",
        "\n",
        "dados_imoveis_pca_renomeado = dados_imoveis_pca.drop('features','scaled_features')\n",
        "dados_imoveis_pca_renomeado = dados_imoveis_pca_renomeado.withColumnRenamed('pca_features','features')\n",
        "dados_imoveis_pca_renomeado = dados_imoveis_pca_renomeado.select('features','label')\n",
        "\n",
        "# Separando os grupos e testando a regressão linear\n",
        "grupo_treino_pca, grupo_teste_pca = dados_imoveis_pca_renomeado.randomSplit([0.7,0.3], seed = 101)\n",
        "print(\"O grupo de treino possui \", grupo_treino.count(), \"dados, já o grupo de teste possui \", grupo_teste.count(), \" dados.\")\n",
        "\n",
        "modelo_lr_pca = lr.fit(grupo_treino_pca)\n",
        "previsoes_lr_treino_pca = modelo_lr_pca.transform(grupo_treino_pca)\n",
        "\n",
        "resumo_lr_pca = modelo_lr_pca.summary\n",
        "print(\"A regressão linear representa em \", round(resumo_lr_pca.r2*100,2),\"% os resultados da base de treino, com um erro RMSE de R$\", round(resumo_lr_pca.rootMeanSquaredError,2))\n",
        "resumo_teste_lr_pca = modelo_lr_pca.evaluate(grupo_teste_pca)\n",
        "print(\"A regressão linear representa em \", round(resumo_teste_lr.r2*100,2),\"% os resultados da base de testes, com um erro RMSE de R$\", round(resumo_teste_lr.rootMeanSquaredError,2))"
      ],
      "metadata": {
        "colab": {
          "base_uri": "https://localhost:8080/"
        },
        "id": "8k0-zKc79kqA",
        "outputId": "4af0ea2a-d651-43f5-8d50-a5834c7e8550"
      },
      "execution_count": 71,
      "outputs": [
        {
          "output_type": "stream",
          "name": "stdout",
          "text": [
            "O grupo de treino possui  46510 dados, já o grupo de teste possui  20052  dados.\n",
            "A regressão linear representa em  59.61 % os resultados da base de treino, com um erro RMSE de R$ 939293.32\n",
            "A regressão linear representa em  60.03 % os resultados da base de testes, com um erro RMSE de R$ 919150.43\n"
          ]
        }
      ]
    },
    {
      "cell_type": "code",
      "source": [
        "print(\"A diferença acabou não sendo tão grande assim, é possível continuar trabalhando com apenas 10 hiperparametros.\")"
      ],
      "metadata": {
        "colab": {
          "base_uri": "https://localhost:8080/"
        },
        "id": "HWbcaUnY92w_",
        "outputId": "87a3a102-ee89-45e4-9596-c88448989e4a"
      },
      "execution_count": 72,
      "outputs": [
        {
          "output_type": "stream",
          "name": "stdout",
          "text": [
            "A diferença acabou não sendo tão grande assim, é possível continuar trabalhando com apenas 10 hiperparametros.\n"
          ]
        }
      ]
    },
    {
      "cell_type": "code",
      "source": [
        "## DESAFIO EXTRA!!\n",
        "# Utilizando o GBTRegressor com os dados de hiperparametros do PCA\n",
        "\n",
        "from pyspark.ml.regression import GBTRegressor\n",
        "from pyspark.ml.evaluation import RegressionEvaluator"
      ],
      "metadata": {
        "id": "AAG2tvkf-Rfk"
      },
      "execution_count": 73,
      "outputs": []
    },
    {
      "cell_type": "code",
      "source": [],
      "metadata": {
        "id": "YQZImPlf-_J8"
      },
      "execution_count": 74,
      "outputs": []
    },
    {
      "cell_type": "code",
      "source": [
        "#GBTRegressor\n",
        "gbtr = GBTRegressor(featuresCol='features', labelCol='label', maxIter=15)\n",
        "gbtr = gbtr.fit(grupo_treino_pca)\n",
        "\n",
        "#Aplicando o GBTRegressor\n",
        "mdata = gbtr.transform(grupo_teste_pca)\n",
        " \n",
        "rmse=RegressionEvaluator(labelCol=\"label\", predictionCol=\"prediction\", metricName=\"rmse\")\n",
        "rmse=rmse.evaluate(mdata) \n",
        " \n",
        "mae=RegressionEvaluator(labelCol=\"label\", predictionCol=\"prediction\", metricName=\"mae\")\n",
        "mae=mae.evaluate(mdata) \n",
        " \n",
        "r2=RegressionEvaluator(labelCol=\"label\", predictionCol=\"prediction\", metricName=\"r2\")\n",
        "r2=r2.evaluate(mdata)\n",
        "\n",
        "print(\"RMSE: \", rmse)\n",
        "print(\"MAE: \", mae)\n",
        "print(\"R-squared: \", r2)"
      ],
      "metadata": {
        "colab": {
          "base_uri": "https://localhost:8080/"
        },
        "id": "wEfyo2c8_XGD",
        "outputId": "d8ad4baa-8c3f-4fe0-d6b5-819a92dd81fd"
      },
      "execution_count": 78,
      "outputs": [
        {
          "output_type": "stream",
          "name": "stdout",
          "text": [
            "RMSE:  829522.1754425816\n",
            "MAE:  460034.34447996295\n",
            "R-squared:  0.6758274774686297\n"
          ]
        }
      ]
    },
    {
      "cell_type": "code",
      "source": [
        "print(\"Utilizando o GBTRegressor, conseguimos atingir uma acuracidade média de 67%, bem superior aos 60% da regressão linear.\")"
      ],
      "metadata": {
        "colab": {
          "base_uri": "https://localhost:8080/"
        },
        "id": "YnZNLVwX_nY6",
        "outputId": "3cf810f5-9274-4cb4-cb95-961c637bbcdb"
      },
      "execution_count": 79,
      "outputs": [
        {
          "output_type": "stream",
          "name": "stdout",
          "text": [
            "Utilizando o GBTRegressor, conseguimos atingir uma acuracidade média de 67%, bem superior aos 60% da regressão linear.\n"
          ]
        }
      ]
    },
    {
      "cell_type": "code",
      "source": [
        "# Encerra a sessão Spark\n",
        "spark.stop"
      ],
      "metadata": {
        "colab": {
          "base_uri": "https://localhost:8080/"
        },
        "id": "a07x2W3kAV44",
        "outputId": "82fdeab7-5fd6-4859-b74b-3ad1ba86a782"
      },
      "execution_count": 80,
      "outputs": [
        {
          "output_type": "execute_result",
          "data": {
            "text/plain": [
              "<bound method SparkSession.stop of <pyspark.sql.session.SparkSession object at 0x7f44108c35e0>>"
            ]
          },
          "metadata": {},
          "execution_count": 80
        }
      ]
    },
    {
      "cell_type": "code",
      "source": [],
      "metadata": {
        "id": "WjU5LdUuAfr5"
      },
      "execution_count": null,
      "outputs": []
    }
  ]
}