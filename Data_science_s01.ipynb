{
  "nbformat": 4,
  "nbformat_minor": 0,
  "metadata": {
    "colab": {
      "provenance": [],
      "authorship_tag": "ABX9TyNphYloVYMOExCN1GKDB/eX"
    },
    "kernelspec": {
      "name": "python3",
      "display_name": "Python 3"
    },
    "language_info": {
      "name": "python"
    }
  },
  "cells": [
    {
      "cell_type": "code",
      "execution_count": 124,
      "metadata": {
        "colab": {
          "base_uri": "https://localhost:8080/"
        },
        "id": "-G4S_0H5TKd-",
        "outputId": "ccd5e633-36be-4c72-c952-c5649482cc6c"
      },
      "outputs": [
        {
          "output_type": "stream",
          "name": "stdout",
          "text": [
            "Looking in indexes: https://pypi.org/simple, https://us-python.pkg.dev/colab-wheels/public/simple/\n",
            "Requirement already satisfied: pyspark in /usr/local/lib/python3.7/dist-packages (3.3.1)\n",
            "Requirement already satisfied: py4j==0.10.9.5 in /usr/local/lib/python3.7/dist-packages (from pyspark) (0.10.9.5)\n"
          ]
        }
      ],
      "source": [
        "# Instala o PySpark na máquina virtual\n",
        "!pip install pyspark"
      ]
    },
    {
      "cell_type": "code",
      "source": [
        "# Importa a sessão Spark e os SparkTypes\n",
        "from pyspark.sql import SparkSession\n",
        "from pyspark.sql.types import IntegerType, DoubleType\n",
        "from google.colab import drive\n",
        "drive.mount('/content/drive')"
      ],
      "metadata": {
        "id": "uLqCVPwATTvz",
        "colab": {
          "base_uri": "https://localhost:8080/"
        },
        "outputId": "2b2fc6c3-5652-4c58-e3fb-9af67ffb5d6b"
      },
      "execution_count": 125,
      "outputs": [
        {
          "output_type": "stream",
          "name": "stdout",
          "text": [
            "Drive already mounted at /content/drive; to attempt to forcibly remount, call drive.mount(\"/content/drive\", force_remount=True).\n"
          ]
        }
      ]
    },
    {
      "cell_type": "code",
      "source": [
        "# Cria a sessão Spark (lembrar de fechar a sessão depois)\n",
        "spark = SparkSession.builder \\\n",
        "    .master('local[*]') \\\n",
        "    .appName(\"Challenge Semana 01\") \\\n",
        "    .getOrCreate()"
      ],
      "metadata": {
        "id": "_zQQC37MT8a0"
      },
      "execution_count": 126,
      "outputs": []
    },
    {
      "cell_type": "code",
      "source": [
        "# Cria um dataset Spark com as informações brutas do arquivo json\n",
        "dataset_imoveis_bruto = spark.read.json('/content/drive/MyDrive/Challenge Data Science/dataset_bruto.json')"
      ],
      "metadata": {
        "id": "6U5pWAkqULhh"
      },
      "execution_count": 127,
      "outputs": []
    },
    {
      "cell_type": "code",
      "source": [
        "# Conta a quantidade de dados no json\n",
        "dataset_imoveis_bruto.count()\n",
        "dataset_imoveis_bruto.printSchema()"
      ],
      "metadata": {
        "colab": {
          "base_uri": "https://localhost:8080/"
        },
        "id": "csYanhYSWj1O",
        "outputId": "f1346516-3f89-4718-c340-29c49916153f"
      },
      "execution_count": 128,
      "outputs": [
        {
          "output_type": "stream",
          "name": "stdout",
          "text": [
            "root\n",
            " |-- anuncio: struct (nullable = true)\n",
            " |    |-- andar: long (nullable = true)\n",
            " |    |-- area_total: array (nullable = true)\n",
            " |    |    |-- element: string (containsNull = true)\n",
            " |    |-- area_util: array (nullable = true)\n",
            " |    |    |-- element: string (containsNull = true)\n",
            " |    |-- banheiros: array (nullable = true)\n",
            " |    |    |-- element: long (containsNull = true)\n",
            " |    |-- caracteristicas: array (nullable = true)\n",
            " |    |    |-- element: string (containsNull = true)\n",
            " |    |-- endereco: struct (nullable = true)\n",
            " |    |    |-- bairro: string (nullable = true)\n",
            " |    |    |-- cep: string (nullable = true)\n",
            " |    |    |-- cidade: string (nullable = true)\n",
            " |    |    |-- estado: string (nullable = true)\n",
            " |    |    |-- latitude: double (nullable = true)\n",
            " |    |    |-- longitude: double (nullable = true)\n",
            " |    |    |-- pais: string (nullable = true)\n",
            " |    |    |-- rua: string (nullable = true)\n",
            " |    |    |-- zona: string (nullable = true)\n",
            " |    |-- id: string (nullable = true)\n",
            " |    |-- quartos: array (nullable = true)\n",
            " |    |    |-- element: long (containsNull = true)\n",
            " |    |-- suites: array (nullable = true)\n",
            " |    |    |-- element: long (containsNull = true)\n",
            " |    |-- tipo_anuncio: string (nullable = true)\n",
            " |    |-- tipo_unidade: string (nullable = true)\n",
            " |    |-- tipo_uso: string (nullable = true)\n",
            " |    |-- vaga: array (nullable = true)\n",
            " |    |    |-- element: long (containsNull = true)\n",
            " |    |-- valores: array (nullable = true)\n",
            " |    |    |-- element: struct (containsNull = true)\n",
            " |    |    |    |-- condominio: string (nullable = true)\n",
            " |    |    |    |-- iptu: string (nullable = true)\n",
            " |    |    |    |-- tipo: string (nullable = true)\n",
            " |    |    |    |-- valor: string (nullable = true)\n",
            " |-- imagens: array (nullable = true)\n",
            " |    |-- element: struct (containsNull = true)\n",
            " |    |    |-- id: string (nullable = true)\n",
            " |    |    |-- url: string (nullable = true)\n",
            " |-- usuario: struct (nullable = true)\n",
            " |    |-- id: string (nullable = true)\n",
            " |    |-- nome: string (nullable = true)\n",
            "\n"
          ]
        }
      ]
    },
    {
      "cell_type": "code",
      "source": [
        "# Cria colunas para cada um dos dados contidos em anuncio\n",
        "dataset_anuncio = dataset_imoveis_bruto.select('anuncio.*')\n",
        "dataset_anuncio.printSchema()"
      ],
      "metadata": {
        "colab": {
          "base_uri": "https://localhost:8080/"
        },
        "id": "WejUytIcWxoM",
        "outputId": "d7ff6e30-c90d-46ca-dcdf-2d0c73c7af7d"
      },
      "execution_count": 129,
      "outputs": [
        {
          "output_type": "stream",
          "name": "stdout",
          "text": [
            "root\n",
            " |-- andar: long (nullable = true)\n",
            " |-- area_total: array (nullable = true)\n",
            " |    |-- element: string (containsNull = true)\n",
            " |-- area_util: array (nullable = true)\n",
            " |    |-- element: string (containsNull = true)\n",
            " |-- banheiros: array (nullable = true)\n",
            " |    |-- element: long (containsNull = true)\n",
            " |-- caracteristicas: array (nullable = true)\n",
            " |    |-- element: string (containsNull = true)\n",
            " |-- endereco: struct (nullable = true)\n",
            " |    |-- bairro: string (nullable = true)\n",
            " |    |-- cep: string (nullable = true)\n",
            " |    |-- cidade: string (nullable = true)\n",
            " |    |-- estado: string (nullable = true)\n",
            " |    |-- latitude: double (nullable = true)\n",
            " |    |-- longitude: double (nullable = true)\n",
            " |    |-- pais: string (nullable = true)\n",
            " |    |-- rua: string (nullable = true)\n",
            " |    |-- zona: string (nullable = true)\n",
            " |-- id: string (nullable = true)\n",
            " |-- quartos: array (nullable = true)\n",
            " |    |-- element: long (containsNull = true)\n",
            " |-- suites: array (nullable = true)\n",
            " |    |-- element: long (containsNull = true)\n",
            " |-- tipo_anuncio: string (nullable = true)\n",
            " |-- tipo_unidade: string (nullable = true)\n",
            " |-- tipo_uso: string (nullable = true)\n",
            " |-- vaga: array (nullable = true)\n",
            " |    |-- element: long (containsNull = true)\n",
            " |-- valores: array (nullable = true)\n",
            " |    |-- element: struct (containsNull = true)\n",
            " |    |    |-- condominio: string (nullable = true)\n",
            " |    |    |-- iptu: string (nullable = true)\n",
            " |    |    |-- tipo: string (nullable = true)\n",
            " |    |    |-- valor: string (nullable = true)\n",
            "\n"
          ]
        }
      ]
    },
    {
      "cell_type": "code",
      "source": [
        "# Transforma as colunas com unidades diferenciadas em suas unidades corretas\n",
        "dataset_anuncio = dataset_anuncio\\\n",
        "  .withColumn('area_total',dataset_anuncio['area_total'][0].cast(IntegerType()))\\\n",
        "  .withColumn('area_util',dataset_anuncio['area_util'][0].cast(IntegerType()))\\\n",
        "  .withColumn('banheiros',dataset_anuncio['banheiros'][0])\\\n",
        "  .withColumn('quartos',dataset_anuncio['quartos'][0])\\\n",
        "  .withColumn('suites',dataset_anuncio['suites'][0])\\\n",
        "  .withColumn('vaga',dataset_anuncio['vaga'][0])\\"
      ],
      "metadata": {
        "id": "W-fIs6BIYch5"
      },
      "execution_count": 130,
      "outputs": []
    },
    {
      "cell_type": "code",
      "source": [
        "# Realiza contagem por tipo anuncio\n",
        "dataset_anuncio\\\n",
        "  .select('tipo_anuncio')\\\n",
        "  .groupBy('tipo_anuncio')\\\n",
        "  .count()\\\n",
        "  .show()"
      ],
      "metadata": {
        "colab": {
          "base_uri": "https://localhost:8080/"
        },
        "id": "ni0KHVIUm6D3",
        "outputId": "13714e02-3e90-4937-afe4-d34d3be428e3"
      },
      "execution_count": 131,
      "outputs": [
        {
          "output_type": "stream",
          "name": "stdout",
          "text": [
            "+------------+-----+\n",
            "|tipo_anuncio|count|\n",
            "+------------+-----+\n",
            "|       Usado|88827|\n",
            "|  Lançamento|  256|\n",
            "+------------+-----+\n",
            "\n"
          ]
        }
      ]
    },
    {
      "cell_type": "code",
      "source": [
        "# Filtra somente por imoveis usados\n",
        "dataset_anuncio = dataset_anuncio\\\n",
        "  .select('*')\\\n",
        "  .where('tipo_anuncio==\"Usado\"')"
      ],
      "metadata": {
        "id": "LqI6G134ohiS"
      },
      "execution_count": 132,
      "outputs": []
    },
    {
      "cell_type": "code",
      "source": [
        "# Realiza contagem por tipo anuncio após filtro\n",
        "dataset_anuncio\\\n",
        "  .select('tipo_anuncio')\\\n",
        "  .groupBy('tipo_anuncio')\\\n",
        "  .count()\\\n",
        "  .show()"
      ],
      "metadata": {
        "colab": {
          "base_uri": "https://localhost:8080/"
        },
        "id": "hMpb2rSotY3O",
        "outputId": "46c0b0c8-eb52-483c-d038-4c5030cc0515"
      },
      "execution_count": 133,
      "outputs": [
        {
          "output_type": "stream",
          "name": "stdout",
          "text": [
            "+------------+-----+\n",
            "|tipo_anuncio|count|\n",
            "+------------+-----+\n",
            "|       Usado|88827|\n",
            "+------------+-----+\n",
            "\n"
          ]
        }
      ]
    },
    {
      "cell_type": "code",
      "source": [
        "dataset_anuncio.show(5)"
      ],
      "metadata": {
        "colab": {
          "base_uri": "https://localhost:8080/"
        },
        "id": "g7N2XlVQteMo",
        "outputId": "86fb8c31-ec81-4f72-c335-eb9b99cd7d44"
      },
      "execution_count": 134,
      "outputs": [
        {
          "output_type": "stream",
          "name": "stdout",
          "text": [
            "+-----+----------+---------+---------+--------------------+--------------------+--------------------+-------+------+------------+------------+-----------+----+--------------------+\n",
            "|andar|area_total|area_util|banheiros|     caracteristicas|            endereco|                  id|quartos|suites|tipo_anuncio|tipo_unidade|   tipo_uso|vaga|             valores|\n",
            "+-----+----------+---------+---------+--------------------+--------------------+--------------------+-------+------+------------+------------+-----------+----+--------------------+\n",
            "|    0|      null|       16|        0|                  []|{Centro, 20061003...|47d553e0-79f2-4a4...|      0|     0|       Usado|      Outros|  Comercial|   1|[{260, 107, Venda...|\n",
            "|    0|      null|       14|        0|                  []|{Centro, 20051040...|b6ffbae1-17f6-487...|      0|  null|       Usado|      Outros|  Comercial|   0|[{260, 107, Venda...|\n",
            "|    0|      1026|     1026|        0|                  []|{Maria da Graça, ...|1fb030a5-9e3e-4a1...|      0|  null|       Usado|      Outros|  Comercial|   0|[{null, 1613, Ven...|\n",
            "|    0|       120|      120|        0|[Portão eletrônic...|{Campo Grande, 23...|ac6cb348-69d6-45a...|      0|  null|       Usado|      Outros|Residencial|null|[{80, null, Venda...|\n",
            "|    0|         3|        3|        0|                  []|{São Cristóvão, 2...|e032b908-ef42-4d4...|      0|  null|       Usado|      Outros|Residencial|null|[{0, 0, Venda, 50...|\n",
            "+-----+----------+---------+---------+--------------------+--------------------+--------------------+-------+------+------------+------------+-----------+----+--------------------+\n",
            "only showing top 5 rows\n",
            "\n"
          ]
        }
      ]
    },
    {
      "cell_type": "code",
      "source": [
        "# Realiza contagem por tipo anuncio\n",
        "dataset_anuncio\\\n",
        "  .select('tipo_uso')\\\n",
        "  .groupBy('tipo_uso')\\\n",
        "  .count()\\\n",
        "  .show()"
      ],
      "metadata": {
        "colab": {
          "base_uri": "https://localhost:8080/"
        },
        "id": "fbjPQ1mxuWG9",
        "outputId": "a06a1717-cc40-4ebb-ac78-7b6f4251ce2c"
      },
      "execution_count": 135,
      "outputs": [
        {
          "output_type": "stream",
          "name": "stdout",
          "text": [
            "+-----------+-----+\n",
            "|   tipo_uso|count|\n",
            "+-----------+-----+\n",
            "|  Comercial| 4539|\n",
            "|Residencial|84288|\n",
            "+-----------+-----+\n",
            "\n"
          ]
        }
      ]
    },
    {
      "cell_type": "code",
      "source": [
        "# Filtra somente por imoveis residenciais\n",
        "dataset_anuncio = dataset_anuncio\\\n",
        "  .select('*')\\\n",
        "  .where('tipo_uso==\"Residencial\"')"
      ],
      "metadata": {
        "id": "q4IuqMh0uj9a"
      },
      "execution_count": 136,
      "outputs": []
    },
    {
      "cell_type": "code",
      "source": [
        "# Realiza contagem por tipo anuncio após filtro\n",
        "dataset_anuncio\\\n",
        "  .select('tipo_uso')\\\n",
        "  .groupBy('tipo_uso')\\\n",
        "  .count()\\\n",
        "  .show()"
      ],
      "metadata": {
        "colab": {
          "base_uri": "https://localhost:8080/"
        },
        "id": "dbkzg-wquw36",
        "outputId": "ba0e51e7-3713-4e84-9a34-50b13f5392a9"
      },
      "execution_count": 137,
      "outputs": [
        {
          "output_type": "stream",
          "name": "stdout",
          "text": [
            "+-----------+-----+\n",
            "|   tipo_uso|count|\n",
            "+-----------+-----+\n",
            "|Residencial|84288|\n",
            "+-----------+-----+\n",
            "\n"
          ]
        }
      ]
    },
    {
      "cell_type": "code",
      "source": [
        "# Realiza contagem por tipo unidade\n",
        "dataset_anuncio\\\n",
        "  .select('tipo_unidade')\\\n",
        "  .groupBy('tipo_unidade')\\\n",
        "  .count()\\\n",
        "  .show()"
      ],
      "metadata": {
        "colab": {
          "base_uri": "https://localhost:8080/"
        },
        "id": "75cW_2-Zuy1r",
        "outputId": "81fa4573-332c-4b02-d888-aba4781fd1f3"
      },
      "execution_count": 138,
      "outputs": [
        {
          "output_type": "stream",
          "name": "stdout",
          "text": [
            "+------------+-----+\n",
            "|tipo_unidade|count|\n",
            "+------------+-----+\n",
            "|      Outros| 7502|\n",
            "| Apartamento|66562|\n",
            "|        Casa|10224|\n",
            "+------------+-----+\n",
            "\n"
          ]
        }
      ]
    },
    {
      "cell_type": "code",
      "source": [
        "# Filtra somente por apartamentos\n",
        "dataset_anuncio = dataset_anuncio\\\n",
        "  .select('*')\\\n",
        "  .where('tipo_unidade==\"Apartamento\"')"
      ],
      "metadata": {
        "id": "uHYeSz8gu_xe"
      },
      "execution_count": 139,
      "outputs": []
    },
    {
      "cell_type": "code",
      "source": [
        "# Realiza contagem por tipo unidade após filtro\n",
        "dataset_anuncio\\\n",
        "  .select('tipo_unidade')\\\n",
        "  .groupBy('tipo_unidade')\\\n",
        "  .count()\\\n",
        "  .show()"
      ],
      "metadata": {
        "colab": {
          "base_uri": "https://localhost:8080/"
        },
        "id": "K0eALouYvG7Q",
        "outputId": "ea94157c-208e-47b8-a982-128bc1740937"
      },
      "execution_count": 140,
      "outputs": [
        {
          "output_type": "stream",
          "name": "stdout",
          "text": [
            "+------------+-----+\n",
            "|tipo_unidade|count|\n",
            "+------------+-----+\n",
            "| Apartamento|66562|\n",
            "+------------+-----+\n",
            "\n"
          ]
        }
      ]
    },
    {
      "cell_type": "code",
      "source": [
        "dataset_anuncio.printSchema()"
      ],
      "metadata": {
        "colab": {
          "base_uri": "https://localhost:8080/"
        },
        "id": "5iCNz7TnvOAT",
        "outputId": "ef2c280c-1ac3-440a-e12f-0acbfa9d0937"
      },
      "execution_count": 141,
      "outputs": [
        {
          "output_type": "stream",
          "name": "stdout",
          "text": [
            "root\n",
            " |-- andar: long (nullable = true)\n",
            " |-- area_total: integer (nullable = true)\n",
            " |-- area_util: integer (nullable = true)\n",
            " |-- banheiros: long (nullable = true)\n",
            " |-- caracteristicas: array (nullable = true)\n",
            " |    |-- element: string (containsNull = true)\n",
            " |-- endereco: struct (nullable = true)\n",
            " |    |-- bairro: string (nullable = true)\n",
            " |    |-- cep: string (nullable = true)\n",
            " |    |-- cidade: string (nullable = true)\n",
            " |    |-- estado: string (nullable = true)\n",
            " |    |-- latitude: double (nullable = true)\n",
            " |    |-- longitude: double (nullable = true)\n",
            " |    |-- pais: string (nullable = true)\n",
            " |    |-- rua: string (nullable = true)\n",
            " |    |-- zona: string (nullable = true)\n",
            " |-- id: string (nullable = true)\n",
            " |-- quartos: long (nullable = true)\n",
            " |-- suites: long (nullable = true)\n",
            " |-- tipo_anuncio: string (nullable = true)\n",
            " |-- tipo_unidade: string (nullable = true)\n",
            " |-- tipo_uso: string (nullable = true)\n",
            " |-- vaga: long (nullable = true)\n",
            " |-- valores: array (nullable = true)\n",
            " |    |-- element: struct (containsNull = true)\n",
            " |    |    |-- condominio: string (nullable = true)\n",
            " |    |    |-- iptu: string (nullable = true)\n",
            " |    |    |-- tipo: string (nullable = true)\n",
            " |    |    |-- valor: string (nullable = true)\n",
            "\n"
          ]
        }
      ]
    },
    {
      "cell_type": "code",
      "source": [
        "# Retira as informações de endereço necessárias, assim como as de valor\n",
        "dataset_anuncio_filtrado = dataset_anuncio\\\n",
        "  .select('andar','area_total','area_util','banheiros','caracteristicas','endereco.bairro','endereco.zona','id','quartos','suites','tipo_anuncio','tipo_unidade','tipo_uso','vaga','valores.valor')\\"
      ],
      "metadata": {
        "id": "HX4bILedvXHx"
      },
      "execution_count": 142,
      "outputs": []
    },
    {
      "cell_type": "code",
      "source": [
        "# Converte a informação de valor em inteiro\n",
        "dataset_anuncio_filtrado = dataset_anuncio_filtrado\\\n",
        "  .withColumn('valor',dataset_anuncio_filtrado['valor'][0].cast(IntegerType()))\\"
      ],
      "metadata": {
        "id": "g5sotM2wwvap"
      },
      "execution_count": 143,
      "outputs": []
    },
    {
      "cell_type": "code",
      "source": [
        "# Cria o output num arquivo Parquet\n",
        "dataset_anuncio_filtrado.write.parquet(\n",
        "    path = '/content/drive/MyDrive/Challenge Data Science/Semana 1/output_parquet',\n",
        "    mode = 'overwrite',\n",
        ")"
      ],
      "metadata": {
        "id": "3fDiqv38xilN"
      },
      "execution_count": 146,
      "outputs": []
    },
    {
      "cell_type": "code",
      "source": [
        "dataset_anuncio_filtrado.show(5)"
      ],
      "metadata": {
        "colab": {
          "base_uri": "https://localhost:8080/"
        },
        "id": "MNcowPPx4Ehn",
        "outputId": "ef3650bd-5414-4a9a-dcc9-73e7be93f63f"
      },
      "execution_count": 148,
      "outputs": [
        {
          "output_type": "stream",
          "name": "stdout",
          "text": [
            "+-----+----------+---------+---------+--------------------+---------+----------+--------------------+-------+------+------------+------------+-----------+----+-----+\n",
            "|andar|area_total|area_util|banheiros|     caracteristicas|   bairro|      zona|                  id|quartos|suites|tipo_anuncio|tipo_unidade|   tipo_uso|vaga|valor|\n",
            "+-----+----------+---------+---------+--------------------+---------+----------+--------------------+-------+------+------------+------------+-----------+----+-----+\n",
            "|    3|        43|       43|        1|[Academia, Churra...|Paciência|Zona Oeste|d2e3a3aa-09b5-45a...|      2|  null|       Usado| Apartamento|Residencial|   1|15000|\n",
            "|    2|        42|       42|        1|[Churrasqueira, P...|Paciência|Zona Oeste|085bab2c-87ad-452...|      2|  null|       Usado| Apartamento|Residencial|   1|15000|\n",
            "|    1|        41|       41|        1|[Portaria 24h, Co...|Guaratiba|Zona Oeste|18d22cbe-1b86-476...|      2|  null|       Usado| Apartamento|Residencial|   1|20000|\n",
            "|    3|        43|       43|        1|[Churrasqueira, P...|   Cosmos|Zona Oeste|bed8a354-9317-442...|      2|  null|       Usado| Apartamento|Residencial|   0|20000|\n",
            "|    2|        43|       43|        1|[Academia, Churra...|Guaratiba|Zona Oeste|12a13315-d67f-48f...|      2|  null|       Usado| Apartamento|Residencial|   1|15000|\n",
            "+-----+----------+---------+---------+--------------------+---------+----------+--------------------+-------+------+------------+------------+-----------+----+-----+\n",
            "only showing top 5 rows\n",
            "\n"
          ]
        }
      ]
    },
    {
      "cell_type": "code",
      "source": [
        "# Cria o output num arquivo csv\n",
        "#dataset_anuncio_filtrado.write.csv(\n",
        "#    path = '/content/drive/MyDrive/Challenge Data Science/Semana 1/output_csv',\n",
        "#    mode = 'overwrite',\n",
        "#    sep = ';',\n",
        "#    header = True,\n",
        "#)"
      ],
      "metadata": {
        "id": "Hy1FScH-2aHg"
      },
      "execution_count": 149,
      "outputs": []
    },
    {
      "cell_type": "code",
      "source": [
        "# Lendo o arquivo Parquet para ter certeza que foi tudo certo\n",
        "\n",
        "dataset_parquet = spark.read.parquet('/content/drive/MyDrive/Challenge Data Science/Semana 1/output_parquet/part-00000-2ef23170-a88c-4ed8-a077-49f636575fac-c000.snappy.parquet')\n",
        "dataset_parquet.show()"
      ],
      "metadata": {
        "colab": {
          "base_uri": "https://localhost:8080/"
        },
        "id": "siKL-sfn3k9V",
        "outputId": "28a29d9a-016e-49db-bdcc-a71a073a8a38"
      },
      "execution_count": 153,
      "outputs": [
        {
          "output_type": "stream",
          "name": "stdout",
          "text": [
            "+-----+----------+---------+---------+--------------------+--------------------+----------+--------------------+-------+------+------------+------------+-----------+----+-----+\n",
            "|andar|area_total|area_util|banheiros|     caracteristicas|              bairro|      zona|                  id|quartos|suites|tipo_anuncio|tipo_unidade|   tipo_uso|vaga|valor|\n",
            "+-----+----------+---------+---------+--------------------+--------------------+----------+--------------------+-------+------+------------+------------+-----------+----+-----+\n",
            "|    3|        43|       43|        1|[Academia, Churra...|           Paciência|Zona Oeste|d2e3a3aa-09b5-45a...|      2|  null|       Usado| Apartamento|Residencial|   1|15000|\n",
            "|    2|        42|       42|        1|[Churrasqueira, P...|           Paciência|Zona Oeste|085bab2c-87ad-452...|      2|  null|       Usado| Apartamento|Residencial|   1|15000|\n",
            "|    1|        41|       41|        1|[Portaria 24h, Co...|           Guaratiba|Zona Oeste|18d22cbe-1b86-476...|      2|  null|       Usado| Apartamento|Residencial|   1|20000|\n",
            "|    3|        43|       43|        1|[Churrasqueira, P...|              Cosmos|Zona Oeste|bed8a354-9317-442...|      2|  null|       Usado| Apartamento|Residencial|   0|20000|\n",
            "|    2|        43|       43|        1|[Academia, Churra...|           Guaratiba|Zona Oeste|12a13315-d67f-48f...|      2|  null|       Usado| Apartamento|Residencial|   1|15000|\n",
            "|    3|        43|       43|        1|[Churrasqueira, P...|              Cosmos|Zona Oeste|a2e6d7a5-0ff0-484...|      2|     0|       Usado| Apartamento|Residencial|   0|20000|\n",
            "|    3|        43|       43|        1|[Churrasqueira, P...|           Paciência|Zona Oeste|a6e3173b-c950-4db...|      2|  null|       Usado| Apartamento|Residencial|   1|15000|\n",
            "|    3|        43|       43|        1|[Churrasqueira, P...|           Guaratiba|Zona Oeste|2e6e5dfb-206c-496...|      2|     0|       Usado| Apartamento|Residencial|   1|15000|\n",
            "|    3|        43|       43|        1|[Churrasqueira, P...|           Paciência|Zona Oeste|99f8d0f9-95a4-461...|      2|     0|       Usado| Apartamento|Residencial|   1|15000|\n",
            "|    4|        43|       43|        1|[Churrasqueira, P...|           Guaratiba|Zona Oeste|b3f44c1a-2d50-4d5...|      2|  null|       Usado| Apartamento|Residencial|   1|17999|\n",
            "|    0|        60|       60|        1|[Condomínio fechado]|  Pedra de Guaratiba|Zona Oeste|dc99d9e1-4c63-41f...|      2|  null|       Usado| Apartamento|Residencial|   1|15000|\n",
            "|    1|        43|       43|        1|[Churrasqueira, P...|              Cosmos|Zona Oeste|aa3606d8-8bcd-45e...|      2|  null|       Usado| Apartamento|Residencial|   1|19999|\n",
            "|    0|        43|       43|        1|[Churrasqueira, P...|        Campo Grande|Zona Oeste|df80b0d5-677c-4be...|      2|     0|       Usado| Apartamento|Residencial|   0|19999|\n",
            "|    2|        43|       43|        1|[Academia, Churra...|          Santa Cruz|Zona Oeste|3d6c0218-9b7d-474...|      2|  null|       Usado| Apartamento|Residencial|   2|25000|\n",
            "|    3|        43|       43|        1|[Salão de festas,...|           Guaratiba|Zona Oeste|304266cc-62d1-4ce...|      2|  null|       Usado| Apartamento|Residencial|null|29999|\n",
            "|    4|        55|       55|        2|[Academia, Churra...|Recreio dos Bande...|Zona Oeste|111472a2-afa1-4a7...|      2|     1|       Usado| Apartamento|Residencial|   1|30000|\n",
            "|    0|        45|       45|        1|[Playground, Pisc...|              Cosmos|Zona Oeste|275c1589-6537-4bf...|      2|     0|       Usado| Apartamento|Residencial|   1|30000|\n",
            "|    5|        42|       42|        1|[Condomínio fecha...|            Realengo|Zona Oeste|ab8f367f-7509-45c...|      2|     0|       Usado| Apartamento|Residencial|   0|25000|\n",
            "|    1|        43|       43|        1|[Churrasqueira, P...|              Cosmos|Zona Oeste|e0a3d370-66dd-4f5...|      2|  null|       Usado| Apartamento|Residencial|   1|27999|\n",
            "|    3|      null|       55|        1|[Academia, Churra...|     Todos os Santos|Zona Norte|09c8ba2d-dbf1-487...|      2|     1|       Usado| Apartamento|Residencial|   1|26000|\n",
            "+-----+----------+---------+---------+--------------------+--------------------+----------+--------------------+-------+------+------------+------------+-----------+----+-----+\n",
            "only showing top 20 rows\n",
            "\n"
          ]
        }
      ]
    },
    {
      "cell_type": "code",
      "source": [
        "# Encerra a sessão Spark\n",
        "spark.stop"
      ],
      "metadata": {
        "colab": {
          "base_uri": "https://localhost:8080/"
        },
        "id": "A3EuWzMr5POc",
        "outputId": "d979db31-0c58-4350-b710-3ddc68868697"
      },
      "execution_count": 154,
      "outputs": [
        {
          "output_type": "execute_result",
          "data": {
            "text/plain": [
              "<bound method SparkSession.stop of <pyspark.sql.session.SparkSession object at 0x7f76db03ba50>>"
            ]
          },
          "metadata": {},
          "execution_count": 154
        }
      ]
    },
    {
      "cell_type": "code",
      "source": [],
      "metadata": {
        "id": "STpQflCk6MGZ"
      },
      "execution_count": null,
      "outputs": []
    }
  ]
}