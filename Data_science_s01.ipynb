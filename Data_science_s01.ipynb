{
  "nbformat": 4,
  "nbformat_minor": 0,
  "metadata": {
    "colab": {
      "provenance": [],
      "toc_visible": true,
      "authorship_tag": "ABX9TyPSPmRFAKMCFwhOTsI8oIOP",
      "include_colab_link": true
    },
    "kernelspec": {
      "name": "python3",
      "display_name": "Python 3"
    },
    "language_info": {
      "name": "python"
    }
  },
  "cells": [
    {
      "cell_type": "markdown",
      "metadata": {
        "id": "view-in-github",
        "colab_type": "text"
      },
      "source": [
        "<a href=\"https://colab.research.google.com/github/BrunoRBorges/Challenge_Data_Science/blob/main/Data_science_s01.ipynb\" target=\"_parent\"><img src=\"https://colab.research.google.com/assets/colab-badge.svg\" alt=\"Open In Colab\"/></a>"
      ]
    },
    {
      "cell_type": "markdown",
      "source": [
        "##Challenge Data Science Alura - Semana 01\n",
        "\n",
        "Bem-vindo ao meu GitHub! Meu nome é Bruno, e gostaria de lhe apresentar um pouco do trabalho que desenvolvi durante este Challenge!\n",
        "  \n"
      ],
      "metadata": {
        "id": "qllJrbRrQn0L"
      }
    },
    {
      "cell_type": "markdown",
      "source": [
        "#Problema\n",
        "\n",
        "A imobiliária InsightPlaces, situada na cidade do Rio de Janeiro, está enfrentando dificuldades para alugar e vender imóveis. Em uma pesquisa de como empresas semelhantes operam no mercado, a InsightPlaces percebeu que esse problema pode estar relacionado aos valores dos imóveis e às recomendações que faz.\n",
        "\n",
        "Dentro desse contexto, como podemos definir de forma eficiente os preços dos imóveis lidando com grande volume de dados? É importante recomendar imóveis utilizando outro critério? O que precisa ser feito?\n",
        "\n",
        "Faço parte do time de Ciência de Dados e Big Data da InsightPlaces e fiquei responsável por auxiliar no processo de análise de dados dos imóveis localizados em alguns bairros da cidade do Rio de Janeiro.\n",
        "\n",
        "Esse projeto tem algumas etapas como: ler e fazer o tratamento do histórico dos preços de imóveis no Rio de Janeiro, construir um modelo de regressão para precificar imóveis e criar um recomendador de imóveis. Para cada uma dessas etapas vou utilizar a ferramenta PySpark que oferece uma melhor performance ao trabalharmos com grandes volumes de dados."
      ],
      "metadata": {
        "id": "KlQCMnutVFNd"
      }
    },
    {
      "cell_type": "code",
      "execution_count": 1,
      "metadata": {
        "id": "-G4S_0H5TKd-",
        "colab": {
          "base_uri": "https://localhost:8080/"
        },
        "outputId": "6ae81124-1acf-4668-e5fc-4ccede55e243"
      },
      "outputs": [
        {
          "output_type": "stream",
          "name": "stdout",
          "text": [
            "Looking in indexes: https://pypi.org/simple, https://us-python.pkg.dev/colab-wheels/public/simple/\n",
            "Collecting pyspark\n",
            "  Downloading pyspark-3.3.1.tar.gz (281.4 MB)\n",
            "\u001b[K     |████████████████████████████████| 281.4 MB 38 kB/s \n",
            "\u001b[?25hCollecting py4j==0.10.9.5\n",
            "  Downloading py4j-0.10.9.5-py2.py3-none-any.whl (199 kB)\n",
            "\u001b[K     |████████████████████████████████| 199 kB 59.9 MB/s \n",
            "\u001b[?25hBuilding wheels for collected packages: pyspark\n",
            "  Building wheel for pyspark (setup.py) ... \u001b[?25l\u001b[?25hdone\n",
            "  Created wheel for pyspark: filename=pyspark-3.3.1-py2.py3-none-any.whl size=281845512 sha256=ec067750577bfe42c917327fb68465cc31589f77ce11c1f2adb1624ef21f9128\n",
            "  Stored in directory: /root/.cache/pip/wheels/43/dc/11/ec201cd671da62fa9c5cc77078235e40722170ceba231d7598\n",
            "Successfully built pyspark\n",
            "Installing collected packages: py4j, pyspark\n",
            "Successfully installed py4j-0.10.9.5 pyspark-3.3.1\n"
          ]
        }
      ],
      "source": [
        "# Instala o PySpark na máquina virtual\n",
        "!pip install pyspark"
      ]
    },
    {
      "cell_type": "code",
      "source": [
        "# Importa a sessão Spark e os SparkTypes\n",
        "from pyspark.sql import SparkSession\n",
        "from pyspark.sql.types import IntegerType, DoubleType\n",
        "from google.colab import drive\n",
        "drive.mount('/content/drive')"
      ],
      "metadata": {
        "id": "uLqCVPwATTvz",
        "colab": {
          "base_uri": "https://localhost:8080/"
        },
        "outputId": "5a5a8cf1-8ccc-4c0f-aa9b-de0a93bd0075"
      },
      "execution_count": 2,
      "outputs": [
        {
          "output_type": "stream",
          "name": "stdout",
          "text": [
            "Mounted at /content/drive\n"
          ]
        }
      ]
    },
    {
      "cell_type": "code",
      "source": [
        "# Cria a sessão Spark (lembrar de fechar a sessão depois)\n",
        "spark = SparkSession.builder \\\n",
        "    .master('local[*]') \\\n",
        "    .appName(\"Challenge Semana 01\") \\\n",
        "    .getOrCreate()"
      ],
      "metadata": {
        "id": "_zQQC37MT8a0"
      },
      "execution_count": 3,
      "outputs": []
    },
    {
      "cell_type": "markdown",
      "source": [
        "#Arquivo de Dados  .json\n",
        "\n",
        "A InsightPlaces disponibilizou os dados contidos no banco de dados quanto às informações de preços de imóveis da cidade do Rio de Janeiro. Subi este arquivo em meu drive conforme abaixo:"
      ],
      "metadata": {
        "id": "j9EalTWLRw91"
      }
    },
    {
      "cell_type": "code",
      "source": [
        "# Cria um dataset Spark com as informações brutas do arquivo json\n",
        "dataset_imoveis_bruto = spark.read.json('/content/drive/MyDrive/Challenge Data Science/dataset_bruto.json')"
      ],
      "metadata": {
        "id": "6U5pWAkqULhh"
      },
      "execution_count": 4,
      "outputs": []
    },
    {
      "cell_type": "code",
      "source": [
        "# Conta a quantidade de dados no json\n",
        "\n",
        "dataset_imoveis_bruto.printSchema()\n",
        "dataset_imoveis_bruto.count()"
      ],
      "metadata": {
        "id": "csYanhYSWj1O",
        "colab": {
          "base_uri": "https://localhost:8080/"
        },
        "outputId": "b9994acc-93db-4e6c-d5f6-1883ea7f8227"
      },
      "execution_count": 31,
      "outputs": [
        {
          "output_type": "stream",
          "name": "stdout",
          "text": [
            "root\n",
            " |-- anuncio: struct (nullable = true)\n",
            " |    |-- andar: long (nullable = true)\n",
            " |    |-- area_total: array (nullable = true)\n",
            " |    |    |-- element: string (containsNull = true)\n",
            " |    |-- area_util: array (nullable = true)\n",
            " |    |    |-- element: string (containsNull = true)\n",
            " |    |-- banheiros: array (nullable = true)\n",
            " |    |    |-- element: long (containsNull = true)\n",
            " |    |-- caracteristicas: array (nullable = true)\n",
            " |    |    |-- element: string (containsNull = true)\n",
            " |    |-- endereco: struct (nullable = true)\n",
            " |    |    |-- bairro: string (nullable = true)\n",
            " |    |    |-- cep: string (nullable = true)\n",
            " |    |    |-- cidade: string (nullable = true)\n",
            " |    |    |-- estado: string (nullable = true)\n",
            " |    |    |-- latitude: double (nullable = true)\n",
            " |    |    |-- longitude: double (nullable = true)\n",
            " |    |    |-- pais: string (nullable = true)\n",
            " |    |    |-- rua: string (nullable = true)\n",
            " |    |    |-- zona: string (nullable = true)\n",
            " |    |-- id: string (nullable = true)\n",
            " |    |-- quartos: array (nullable = true)\n",
            " |    |    |-- element: long (containsNull = true)\n",
            " |    |-- suites: array (nullable = true)\n",
            " |    |    |-- element: long (containsNull = true)\n",
            " |    |-- tipo_anuncio: string (nullable = true)\n",
            " |    |-- tipo_unidade: string (nullable = true)\n",
            " |    |-- tipo_uso: string (nullable = true)\n",
            " |    |-- vaga: array (nullable = true)\n",
            " |    |    |-- element: long (containsNull = true)\n",
            " |    |-- valores: array (nullable = true)\n",
            " |    |    |-- element: struct (containsNull = true)\n",
            " |    |    |    |-- condominio: string (nullable = true)\n",
            " |    |    |    |-- iptu: string (nullable = true)\n",
            " |    |    |    |-- tipo: string (nullable = true)\n",
            " |    |    |    |-- valor: string (nullable = true)\n",
            " |-- imagens: array (nullable = true)\n",
            " |    |-- element: struct (containsNull = true)\n",
            " |    |    |-- id: string (nullable = true)\n",
            " |    |    |-- url: string (nullable = true)\n",
            " |-- usuario: struct (nullable = true)\n",
            " |    |-- id: string (nullable = true)\n",
            " |    |-- nome: string (nullable = true)\n",
            "\n"
          ]
        },
        {
          "output_type": "execute_result",
          "data": {
            "text/plain": [
              "89083"
            ]
          },
          "metadata": {},
          "execution_count": 31
        }
      ]
    },
    {
      "cell_type": "markdown",
      "source": [
        "# Quebrando os arrays do .json\n",
        "\n",
        "O arquivo .json deixou tudo agrupado em grandes arrays, como visto no printSchema acima, para conseguir trabalhar com isso, transformando num dataframe legal, primeiramente vou quebrar as informações do anúncio, ignorando as colunas de imagem e usuário."
      ],
      "metadata": {
        "id": "iH5ihbZ7T_mC"
      }
    },
    {
      "cell_type": "code",
      "source": [
        "# Cria colunas para cada um dos dados contidos em anuncio\n",
        "dataset_anuncio = dataset_imoveis_bruto.select('anuncio.*')\n",
        "dataset_anuncio.printSchema()"
      ],
      "metadata": {
        "id": "WejUytIcWxoM",
        "colab": {
          "base_uri": "https://localhost:8080/"
        },
        "outputId": "c3002e99-a58c-4979-9b90-ff8bf0badb6c"
      },
      "execution_count": 6,
      "outputs": [
        {
          "output_type": "stream",
          "name": "stdout",
          "text": [
            "root\n",
            " |-- andar: long (nullable = true)\n",
            " |-- area_total: array (nullable = true)\n",
            " |    |-- element: string (containsNull = true)\n",
            " |-- area_util: array (nullable = true)\n",
            " |    |-- element: string (containsNull = true)\n",
            " |-- banheiros: array (nullable = true)\n",
            " |    |-- element: long (containsNull = true)\n",
            " |-- caracteristicas: array (nullable = true)\n",
            " |    |-- element: string (containsNull = true)\n",
            " |-- endereco: struct (nullable = true)\n",
            " |    |-- bairro: string (nullable = true)\n",
            " |    |-- cep: string (nullable = true)\n",
            " |    |-- cidade: string (nullable = true)\n",
            " |    |-- estado: string (nullable = true)\n",
            " |    |-- latitude: double (nullable = true)\n",
            " |    |-- longitude: double (nullable = true)\n",
            " |    |-- pais: string (nullable = true)\n",
            " |    |-- rua: string (nullable = true)\n",
            " |    |-- zona: string (nullable = true)\n",
            " |-- id: string (nullable = true)\n",
            " |-- quartos: array (nullable = true)\n",
            " |    |-- element: long (containsNull = true)\n",
            " |-- suites: array (nullable = true)\n",
            " |    |-- element: long (containsNull = true)\n",
            " |-- tipo_anuncio: string (nullable = true)\n",
            " |-- tipo_unidade: string (nullable = true)\n",
            " |-- tipo_uso: string (nullable = true)\n",
            " |-- vaga: array (nullable = true)\n",
            " |    |-- element: long (containsNull = true)\n",
            " |-- valores: array (nullable = true)\n",
            " |    |-- element: struct (containsNull = true)\n",
            " |    |    |-- condominio: string (nullable = true)\n",
            " |    |    |-- iptu: string (nullable = true)\n",
            " |    |    |-- tipo: string (nullable = true)\n",
            " |    |    |-- valor: string (nullable = true)\n",
            "\n"
          ]
        }
      ]
    },
    {
      "cell_type": "markdown",
      "source": [
        "# Tratando as colunas de anúncio\n",
        "\n",
        "Estamos próximo de um dataframe trabalhável, mas os dados ainda estão todos dentro de arrays também, irei trabalhar com as colunas para retirar esses valores de dentro de colunas."
      ],
      "metadata": {
        "id": "FEcCfl3hUnu4"
      }
    },
    {
      "cell_type": "code",
      "source": [
        "# Transforma as colunas com unidades diferenciadas em suas unidades corretas\n",
        "dataset_anuncio = dataset_anuncio\\\n",
        "  .withColumn('area_total',dataset_anuncio['area_total'][0].cast(IntegerType()))\\\n",
        "  .withColumn('area_util',dataset_anuncio['area_util'][0].cast(IntegerType()))\\\n",
        "  .withColumn('banheiros',dataset_anuncio['banheiros'][0])\\\n",
        "  .withColumn('quartos',dataset_anuncio['quartos'][0])\\\n",
        "  .withColumn('suites',dataset_anuncio['suites'][0])\\\n",
        "  .withColumn('vaga',dataset_anuncio['vaga'][0])"
      ],
      "metadata": {
        "id": "W-fIs6BIYch5"
      },
      "execution_count": 8,
      "outputs": []
    },
    {
      "cell_type": "markdown",
      "source": [],
      "metadata": {
        "id": "x0ttns6eU_et"
      }
    },
    {
      "cell_type": "code",
      "source": [
        "# Realiza contagem por tipo anuncio\n",
        "dataset_anuncio\\\n",
        "  .select('tipo_anuncio')\\\n",
        "  .groupBy('tipo_anuncio')\\\n",
        "  .count()\\\n",
        "  .show()"
      ],
      "metadata": {
        "id": "ni0KHVIUm6D3",
        "colab": {
          "base_uri": "https://localhost:8080/"
        },
        "outputId": "fd87d6aa-c756-46ab-bf59-045eb161bc2d"
      },
      "execution_count": 10,
      "outputs": [
        {
          "output_type": "stream",
          "name": "stdout",
          "text": [
            "+------------+-----+\n",
            "|tipo_anuncio|count|\n",
            "+------------+-----+\n",
            "|       Usado|88827|\n",
            "|  Lançamento|  256|\n",
            "+------------+-----+\n",
            "\n"
          ]
        }
      ]
    },
    {
      "cell_type": "markdown",
      "source": [
        "# Análise dos tipos de Anúncio\n",
        "\n",
        "Neste dataframe, possuímos 88827 imóveis usados registrados, contra 256 lançamentos, devido a baixa quantidade de lançamentos, irei retirá-los de nosso estudo."
      ],
      "metadata": {
        "id": "pd_n5Ki3VTdg"
      }
    },
    {
      "cell_type": "code",
      "source": [
        "# Filtra somente por imoveis usados\n",
        "dataset_anuncio = dataset_anuncio\\\n",
        "  .select('*')\\\n",
        "  .where('tipo_anuncio==\"Usado\"')"
      ],
      "metadata": {
        "id": "LqI6G134ohiS"
      },
      "execution_count": 11,
      "outputs": []
    },
    {
      "cell_type": "code",
      "source": [
        "# Realiza contagem por tipo anuncio após filtro\n",
        "dataset_anuncio\\\n",
        "  .select('tipo_anuncio')\\\n",
        "  .groupBy('tipo_anuncio')\\\n",
        "  .count()\\\n",
        "  .show()"
      ],
      "metadata": {
        "id": "hMpb2rSotY3O",
        "colab": {
          "base_uri": "https://localhost:8080/"
        },
        "outputId": "444f4e6d-f4dd-44d7-f634-4f5dc9c97b4c"
      },
      "execution_count": 12,
      "outputs": [
        {
          "output_type": "stream",
          "name": "stdout",
          "text": [
            "+------------+-----+\n",
            "|tipo_anuncio|count|\n",
            "+------------+-----+\n",
            "|       Usado|88827|\n",
            "+------------+-----+\n",
            "\n"
          ]
        }
      ]
    },
    {
      "cell_type": "code",
      "source": [
        "# Realiza contagem por tipo anuncio\n",
        "dataset_anuncio\\\n",
        "  .select('tipo_uso')\\\n",
        "  .groupBy('tipo_uso')\\\n",
        "  .count()\\\n",
        "  .show()"
      ],
      "metadata": {
        "id": "fbjPQ1mxuWG9",
        "colab": {
          "base_uri": "https://localhost:8080/"
        },
        "outputId": "2f2c4a68-d49f-44b6-d33a-c4bd23269164"
      },
      "execution_count": 13,
      "outputs": [
        {
          "output_type": "stream",
          "name": "stdout",
          "text": [
            "+-----------+-----+\n",
            "|   tipo_uso|count|\n",
            "+-----------+-----+\n",
            "|  Comercial| 4539|\n",
            "|Residencial|84288|\n",
            "+-----------+-----+\n",
            "\n"
          ]
        }
      ]
    },
    {
      "cell_type": "markdown",
      "source": [
        "# Análise de imóveis por tipo de uso\n",
        "\n",
        "Possuímos 4539 imóveis comerciais contra 84288 residenciais, novamente, pela baixa quantidade de dados, irei focar a análise nos imóveis residenciais."
      ],
      "metadata": {
        "id": "XABw96DEVf1F"
      }
    },
    {
      "cell_type": "code",
      "source": [
        "# Filtra somente por imoveis residenciais\n",
        "dataset_anuncio = dataset_anuncio\\\n",
        "  .select('*')\\\n",
        "  .where('tipo_uso==\"Residencial\"')"
      ],
      "metadata": {
        "id": "q4IuqMh0uj9a"
      },
      "execution_count": 14,
      "outputs": []
    },
    {
      "cell_type": "code",
      "source": [
        "# Realiza contagem por tipo anuncio após filtro\n",
        "dataset_anuncio\\\n",
        "  .select('tipo_uso')\\\n",
        "  .groupBy('tipo_uso')\\\n",
        "  .count()\\\n",
        "  .show()"
      ],
      "metadata": {
        "id": "dbkzg-wquw36",
        "colab": {
          "base_uri": "https://localhost:8080/"
        },
        "outputId": "70097618-5b10-4156-e266-07cef774aa1d"
      },
      "execution_count": 15,
      "outputs": [
        {
          "output_type": "stream",
          "name": "stdout",
          "text": [
            "+-----------+-----+\n",
            "|   tipo_uso|count|\n",
            "+-----------+-----+\n",
            "|Residencial|84288|\n",
            "+-----------+-----+\n",
            "\n"
          ]
        }
      ]
    },
    {
      "cell_type": "code",
      "source": [
        "# Realiza contagem por tipo unidade\n",
        "dataset_anuncio\\\n",
        "  .select('tipo_unidade')\\\n",
        "  .groupBy('tipo_unidade')\\\n",
        "  .count()\\\n",
        "  .show()"
      ],
      "metadata": {
        "id": "75cW_2-Zuy1r",
        "colab": {
          "base_uri": "https://localhost:8080/"
        },
        "outputId": "c1baf826-f6a5-4993-e910-7cdeb6a2556c"
      },
      "execution_count": 16,
      "outputs": [
        {
          "output_type": "stream",
          "name": "stdout",
          "text": [
            "+------------+-----+\n",
            "|tipo_unidade|count|\n",
            "+------------+-----+\n",
            "|      Outros| 7502|\n",
            "| Apartamento|66562|\n",
            "|        Casa|10224|\n",
            "+------------+-----+\n",
            "\n"
          ]
        }
      ]
    },
    {
      "cell_type": "markdown",
      "source": [
        "# Análise por tipo de unidade\n",
        "\n",
        "Possuímos 10224 casas, 7502 \"outros\" e 66562 apartamentos, este relatório irá se focar somente nos imóvei do tipo apartamento, excluindo casas e outros."
      ],
      "metadata": {
        "id": "FZ-kX6CHVviw"
      }
    },
    {
      "cell_type": "code",
      "source": [
        "# Filtra somente por apartamentos\n",
        "dataset_anuncio = dataset_anuncio\\\n",
        "  .select('*')\\\n",
        "  .where('tipo_unidade==\"Apartamento\"')"
      ],
      "metadata": {
        "id": "uHYeSz8gu_xe"
      },
      "execution_count": 17,
      "outputs": []
    },
    {
      "cell_type": "code",
      "source": [
        "# Realiza contagem por tipo unidade após filtro\n",
        "dataset_anuncio\\\n",
        "  .select('tipo_unidade')\\\n",
        "  .groupBy('tipo_unidade')\\\n",
        "  .count()\\\n",
        "  .show()"
      ],
      "metadata": {
        "id": "K0eALouYvG7Q",
        "colab": {
          "base_uri": "https://localhost:8080/"
        },
        "outputId": "a5b5f7a3-ea27-4837-8965-92c617cc1f8a"
      },
      "execution_count": 18,
      "outputs": [
        {
          "output_type": "stream",
          "name": "stdout",
          "text": [
            "+------------+-----+\n",
            "|tipo_unidade|count|\n",
            "+------------+-----+\n",
            "| Apartamento|66562|\n",
            "+------------+-----+\n",
            "\n"
          ]
        }
      ]
    },
    {
      "cell_type": "markdown",
      "source": [
        "# Separando as informações contidas dentro do array de endereço e de valores\n",
        "\n",
        "O endereço ainda continha um array contendo Bairro e Zona, e valores ainda era um array com valor, tipo, condomínio e iptu, vou discriminá-los em suas próprias coluna, mas da coluna valor irei extrair somente o valor do imóvel."
      ],
      "metadata": {
        "id": "dieNeTsGWlA9"
      }
    },
    {
      "cell_type": "code",
      "source": [
        "# Retira as informações de endereço necessárias, assim como as de valor\n",
        "dataset_anuncio_filtrado = dataset_anuncio\\\n",
        "  .select('andar','area_total','area_util','banheiros','caracteristicas','endereco.bairro','endereco.zona','id','quartos','suites','tipo_anuncio','tipo_unidade','tipo_uso','vaga','valores.valor')"
      ],
      "metadata": {
        "id": "HX4bILedvXHx"
      },
      "execution_count": 22,
      "outputs": []
    },
    {
      "cell_type": "code",
      "source": [
        "# Converte a informação de valor em inteiro\n",
        "dataset_anuncio_filtrado = dataset_anuncio_filtrado\\\n",
        "  .withColumn('valor',dataset_anuncio_filtrado['valor'][0].cast(IntegerType()))"
      ],
      "metadata": {
        "id": "g5sotM2wwvap"
      },
      "execution_count": 24,
      "outputs": []
    },
    {
      "cell_type": "markdown",
      "source": [
        "# Salvando a base de dados\n",
        "\n",
        "Aqui crio um arquivo .parque para registar todos esses filtros realizados."
      ],
      "metadata": {
        "id": "-KRX78CtXY1X"
      }
    },
    {
      "cell_type": "code",
      "source": [
        "# Cria o output num arquivo Parquet\n",
        "dataset_anuncio_filtrado.write.parquet(\n",
        "    path = '/content/drive/MyDrive/Challenge Data Science/Semana 1/output_parquet',\n",
        "    mode = 'overwrite',\n",
        ")"
      ],
      "metadata": {
        "id": "3fDiqv38xilN"
      },
      "execution_count": 25,
      "outputs": []
    },
    {
      "cell_type": "markdown",
      "source": [
        "# Teste de leitura\n",
        "\n",
        "Após salvar o arquivo, subo ele novamente no colab para um teste de leitura."
      ],
      "metadata": {
        "id": "gFrdwi-eXhBs"
      }
    },
    {
      "cell_type": "code",
      "source": [
        "# Lendo o arquivo Parquet para ter certeza que foi tudo certo\n",
        "\n",
        "dataset_parquet = spark.read.parquet('/content/drive/MyDrive/Challenge Data Science/Semana 1/output_parquet/part-00000-0781f6f2-bb6a-4e85-bfd2-7825fd885cf3-c000.snappy.parquet')\n",
        "dataset_parquet.show()"
      ],
      "metadata": {
        "id": "siKL-sfn3k9V",
        "colab": {
          "base_uri": "https://localhost:8080/"
        },
        "outputId": "b7b4ad11-8912-4570-a4fe-5165ee721029"
      },
      "execution_count": 28,
      "outputs": [
        {
          "output_type": "stream",
          "name": "stdout",
          "text": [
            "+-----+----------+---------+---------+--------------------+--------------------+----------+--------------------+-------+------+------------+------------+-----------+----+-----+\n",
            "|andar|area_total|area_util|banheiros|     caracteristicas|              bairro|      zona|                  id|quartos|suites|tipo_anuncio|tipo_unidade|   tipo_uso|vaga|valor|\n",
            "+-----+----------+---------+---------+--------------------+--------------------+----------+--------------------+-------+------+------------+------------+-----------+----+-----+\n",
            "|    3|        43|       43|        1|[Academia, Churra...|           Paciência|Zona Oeste|d2e3a3aa-09b5-45a...|      2|  null|       Usado| Apartamento|Residencial|   1|15000|\n",
            "|    2|        42|       42|        1|[Churrasqueira, P...|           Paciência|Zona Oeste|085bab2c-87ad-452...|      2|  null|       Usado| Apartamento|Residencial|   1|15000|\n",
            "|    1|        41|       41|        1|[Portaria 24h, Co...|           Guaratiba|Zona Oeste|18d22cbe-1b86-476...|      2|  null|       Usado| Apartamento|Residencial|   1|20000|\n",
            "|    3|        43|       43|        1|[Churrasqueira, P...|              Cosmos|Zona Oeste|bed8a354-9317-442...|      2|  null|       Usado| Apartamento|Residencial|   0|20000|\n",
            "|    2|        43|       43|        1|[Academia, Churra...|           Guaratiba|Zona Oeste|12a13315-d67f-48f...|      2|  null|       Usado| Apartamento|Residencial|   1|15000|\n",
            "|    3|        43|       43|        1|[Churrasqueira, P...|              Cosmos|Zona Oeste|a2e6d7a5-0ff0-484...|      2|     0|       Usado| Apartamento|Residencial|   0|20000|\n",
            "|    3|        43|       43|        1|[Churrasqueira, P...|           Paciência|Zona Oeste|a6e3173b-c950-4db...|      2|  null|       Usado| Apartamento|Residencial|   1|15000|\n",
            "|    3|        43|       43|        1|[Churrasqueira, P...|           Guaratiba|Zona Oeste|2e6e5dfb-206c-496...|      2|     0|       Usado| Apartamento|Residencial|   1|15000|\n",
            "|    3|        43|       43|        1|[Churrasqueira, P...|           Paciência|Zona Oeste|99f8d0f9-95a4-461...|      2|     0|       Usado| Apartamento|Residencial|   1|15000|\n",
            "|    4|        43|       43|        1|[Churrasqueira, P...|           Guaratiba|Zona Oeste|b3f44c1a-2d50-4d5...|      2|  null|       Usado| Apartamento|Residencial|   1|17999|\n",
            "|    0|        60|       60|        1|[Condomínio fechado]|  Pedra de Guaratiba|Zona Oeste|dc99d9e1-4c63-41f...|      2|  null|       Usado| Apartamento|Residencial|   1|15000|\n",
            "|    1|        43|       43|        1|[Churrasqueira, P...|              Cosmos|Zona Oeste|aa3606d8-8bcd-45e...|      2|  null|       Usado| Apartamento|Residencial|   1|19999|\n",
            "|    0|        43|       43|        1|[Churrasqueira, P...|        Campo Grande|Zona Oeste|df80b0d5-677c-4be...|      2|     0|       Usado| Apartamento|Residencial|   0|19999|\n",
            "|    2|        43|       43|        1|[Academia, Churra...|          Santa Cruz|Zona Oeste|3d6c0218-9b7d-474...|      2|  null|       Usado| Apartamento|Residencial|   2|25000|\n",
            "|    3|        43|       43|        1|[Salão de festas,...|           Guaratiba|Zona Oeste|304266cc-62d1-4ce...|      2|  null|       Usado| Apartamento|Residencial|null|29999|\n",
            "|    4|        55|       55|        2|[Academia, Churra...|Recreio dos Bande...|Zona Oeste|111472a2-afa1-4a7...|      2|     1|       Usado| Apartamento|Residencial|   1|30000|\n",
            "|    0|        45|       45|        1|[Playground, Pisc...|              Cosmos|Zona Oeste|275c1589-6537-4bf...|      2|     0|       Usado| Apartamento|Residencial|   1|30000|\n",
            "|    5|        42|       42|        1|[Condomínio fecha...|            Realengo|Zona Oeste|ab8f367f-7509-45c...|      2|     0|       Usado| Apartamento|Residencial|   0|25000|\n",
            "|    1|        43|       43|        1|[Churrasqueira, P...|              Cosmos|Zona Oeste|e0a3d370-66dd-4f5...|      2|  null|       Usado| Apartamento|Residencial|   1|27999|\n",
            "|    3|      null|       55|        1|[Academia, Churra...|     Todos os Santos|Zona Norte|09c8ba2d-dbf1-487...|      2|     1|       Usado| Apartamento|Residencial|   1|26000|\n",
            "+-----+----------+---------+---------+--------------------+--------------------+----------+--------------------+-------+------+------------+------------+-----------+----+-----+\n",
            "only showing top 20 rows\n",
            "\n"
          ]
        }
      ]
    },
    {
      "cell_type": "code",
      "source": [
        "# Encerra a sessão Spark\n",
        "spark.stop"
      ],
      "metadata": {
        "id": "A3EuWzMr5POc",
        "colab": {
          "base_uri": "https://localhost:8080/"
        },
        "outputId": "77ddd91f-2c55-4159-d09f-5728012d4941"
      },
      "execution_count": 29,
      "outputs": [
        {
          "output_type": "execute_result",
          "data": {
            "text/plain": [
              "<bound method SparkSession.stop of <pyspark.sql.session.SparkSession object at 0x7f5a3ed8f760>>"
            ]
          },
          "metadata": {},
          "execution_count": 29
        }
      ]
    }
  ]
}